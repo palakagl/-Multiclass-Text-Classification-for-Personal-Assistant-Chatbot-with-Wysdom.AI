{
  "nbformat": 4,
  "nbformat_minor": 0,
  "metadata": {
    "colab": {
      "name": "Wysdom_DistilBert_FT_2.ipynb",
      "provenance": [],
      "collapsed_sections": [],
      "machine_shape": "hm",
      "include_colab_link": true
    },
    "kernelspec": {
      "name": "python3",
      "display_name": "Python 3"
    },
    "language_info": {
      "name": "python"
    },
    "accelerator": "GPU",
    "widgets": {
      "application/vnd.jupyter.widget-state+json": {
        "f75d6c3e5e0647dfa2f009fa106881f5": {
          "model_module": "@jupyter-widgets/controls",
          "model_name": "HBoxModel",
          "model_module_version": "1.5.0",
          "state": {
            "_dom_classes": [],
            "_model_module": "@jupyter-widgets/controls",
            "_model_module_version": "1.5.0",
            "_model_name": "HBoxModel",
            "_view_count": null,
            "_view_module": "@jupyter-widgets/controls",
            "_view_module_version": "1.5.0",
            "_view_name": "HBoxView",
            "box_style": "",
            "children": [
              "IPY_MODEL_f08f045dab8b4019920e49d4362b82ca",
              "IPY_MODEL_4b9906ed9565449e9e86f0e4fb2ed631",
              "IPY_MODEL_d5f56106e17141baa95bf8a7e6bb8811"
            ],
            "layout": "IPY_MODEL_025c89483e2d479a91c8d3451025413d"
          }
        },
        "f08f045dab8b4019920e49d4362b82ca": {
          "model_module": "@jupyter-widgets/controls",
          "model_name": "HTMLModel",
          "model_module_version": "1.5.0",
          "state": {
            "_dom_classes": [],
            "_model_module": "@jupyter-widgets/controls",
            "_model_module_version": "1.5.0",
            "_model_name": "HTMLModel",
            "_view_count": null,
            "_view_module": "@jupyter-widgets/controls",
            "_view_module_version": "1.5.0",
            "_view_name": "HTMLView",
            "description": "",
            "description_tooltip": null,
            "layout": "IPY_MODEL_2ffeb6a601e44e75a37cc633afd8f827",
            "placeholder": "​",
            "style": "IPY_MODEL_3b88a8fd8ba14460849ebdedb2f771e0",
            "value": "Downloading: 100%"
          }
        },
        "4b9906ed9565449e9e86f0e4fb2ed631": {
          "model_module": "@jupyter-widgets/controls",
          "model_name": "FloatProgressModel",
          "model_module_version": "1.5.0",
          "state": {
            "_dom_classes": [],
            "_model_module": "@jupyter-widgets/controls",
            "_model_module_version": "1.5.0",
            "_model_name": "FloatProgressModel",
            "_view_count": null,
            "_view_module": "@jupyter-widgets/controls",
            "_view_module_version": "1.5.0",
            "_view_name": "ProgressView",
            "bar_style": "success",
            "description": "",
            "description_tooltip": null,
            "layout": "IPY_MODEL_3c24371f3187430a9a47db2d503acd2f",
            "max": 28,
            "min": 0,
            "orientation": "horizontal",
            "style": "IPY_MODEL_8427bc47a7bf4271b72a36849ee5b297",
            "value": 28
          }
        },
        "d5f56106e17141baa95bf8a7e6bb8811": {
          "model_module": "@jupyter-widgets/controls",
          "model_name": "HTMLModel",
          "model_module_version": "1.5.0",
          "state": {
            "_dom_classes": [],
            "_model_module": "@jupyter-widgets/controls",
            "_model_module_version": "1.5.0",
            "_model_name": "HTMLModel",
            "_view_count": null,
            "_view_module": "@jupyter-widgets/controls",
            "_view_module_version": "1.5.0",
            "_view_name": "HTMLView",
            "description": "",
            "description_tooltip": null,
            "layout": "IPY_MODEL_64860c6c1a8846f9a5a2c2a30ec68414",
            "placeholder": "​",
            "style": "IPY_MODEL_fdeb342465fb45149effbdb6aa951fce",
            "value": " 28.0/28.0 [00:00&lt;00:00, 687B/s]"
          }
        },
        "025c89483e2d479a91c8d3451025413d": {
          "model_module": "@jupyter-widgets/base",
          "model_name": "LayoutModel",
          "model_module_version": "1.2.0",
          "state": {
            "_model_module": "@jupyter-widgets/base",
            "_model_module_version": "1.2.0",
            "_model_name": "LayoutModel",
            "_view_count": null,
            "_view_module": "@jupyter-widgets/base",
            "_view_module_version": "1.2.0",
            "_view_name": "LayoutView",
            "align_content": null,
            "align_items": null,
            "align_self": null,
            "border": null,
            "bottom": null,
            "display": null,
            "flex": null,
            "flex_flow": null,
            "grid_area": null,
            "grid_auto_columns": null,
            "grid_auto_flow": null,
            "grid_auto_rows": null,
            "grid_column": null,
            "grid_gap": null,
            "grid_row": null,
            "grid_template_areas": null,
            "grid_template_columns": null,
            "grid_template_rows": null,
            "height": null,
            "justify_content": null,
            "justify_items": null,
            "left": null,
            "margin": null,
            "max_height": null,
            "max_width": null,
            "min_height": null,
            "min_width": null,
            "object_fit": null,
            "object_position": null,
            "order": null,
            "overflow": null,
            "overflow_x": null,
            "overflow_y": null,
            "padding": null,
            "right": null,
            "top": null,
            "visibility": null,
            "width": null
          }
        },
        "2ffeb6a601e44e75a37cc633afd8f827": {
          "model_module": "@jupyter-widgets/base",
          "model_name": "LayoutModel",
          "model_module_version": "1.2.0",
          "state": {
            "_model_module": "@jupyter-widgets/base",
            "_model_module_version": "1.2.0",
            "_model_name": "LayoutModel",
            "_view_count": null,
            "_view_module": "@jupyter-widgets/base",
            "_view_module_version": "1.2.0",
            "_view_name": "LayoutView",
            "align_content": null,
            "align_items": null,
            "align_self": null,
            "border": null,
            "bottom": null,
            "display": null,
            "flex": null,
            "flex_flow": null,
            "grid_area": null,
            "grid_auto_columns": null,
            "grid_auto_flow": null,
            "grid_auto_rows": null,
            "grid_column": null,
            "grid_gap": null,
            "grid_row": null,
            "grid_template_areas": null,
            "grid_template_columns": null,
            "grid_template_rows": null,
            "height": null,
            "justify_content": null,
            "justify_items": null,
            "left": null,
            "margin": null,
            "max_height": null,
            "max_width": null,
            "min_height": null,
            "min_width": null,
            "object_fit": null,
            "object_position": null,
            "order": null,
            "overflow": null,
            "overflow_x": null,
            "overflow_y": null,
            "padding": null,
            "right": null,
            "top": null,
            "visibility": null,
            "width": null
          }
        },
        "3b88a8fd8ba14460849ebdedb2f771e0": {
          "model_module": "@jupyter-widgets/controls",
          "model_name": "DescriptionStyleModel",
          "model_module_version": "1.5.0",
          "state": {
            "_model_module": "@jupyter-widgets/controls",
            "_model_module_version": "1.5.0",
            "_model_name": "DescriptionStyleModel",
            "_view_count": null,
            "_view_module": "@jupyter-widgets/base",
            "_view_module_version": "1.2.0",
            "_view_name": "StyleView",
            "description_width": ""
          }
        },
        "3c24371f3187430a9a47db2d503acd2f": {
          "model_module": "@jupyter-widgets/base",
          "model_name": "LayoutModel",
          "model_module_version": "1.2.0",
          "state": {
            "_model_module": "@jupyter-widgets/base",
            "_model_module_version": "1.2.0",
            "_model_name": "LayoutModel",
            "_view_count": null,
            "_view_module": "@jupyter-widgets/base",
            "_view_module_version": "1.2.0",
            "_view_name": "LayoutView",
            "align_content": null,
            "align_items": null,
            "align_self": null,
            "border": null,
            "bottom": null,
            "display": null,
            "flex": null,
            "flex_flow": null,
            "grid_area": null,
            "grid_auto_columns": null,
            "grid_auto_flow": null,
            "grid_auto_rows": null,
            "grid_column": null,
            "grid_gap": null,
            "grid_row": null,
            "grid_template_areas": null,
            "grid_template_columns": null,
            "grid_template_rows": null,
            "height": null,
            "justify_content": null,
            "justify_items": null,
            "left": null,
            "margin": null,
            "max_height": null,
            "max_width": null,
            "min_height": null,
            "min_width": null,
            "object_fit": null,
            "object_position": null,
            "order": null,
            "overflow": null,
            "overflow_x": null,
            "overflow_y": null,
            "padding": null,
            "right": null,
            "top": null,
            "visibility": null,
            "width": null
          }
        },
        "8427bc47a7bf4271b72a36849ee5b297": {
          "model_module": "@jupyter-widgets/controls",
          "model_name": "ProgressStyleModel",
          "model_module_version": "1.5.0",
          "state": {
            "_model_module": "@jupyter-widgets/controls",
            "_model_module_version": "1.5.0",
            "_model_name": "ProgressStyleModel",
            "_view_count": null,
            "_view_module": "@jupyter-widgets/base",
            "_view_module_version": "1.2.0",
            "_view_name": "StyleView",
            "bar_color": null,
            "description_width": ""
          }
        },
        "64860c6c1a8846f9a5a2c2a30ec68414": {
          "model_module": "@jupyter-widgets/base",
          "model_name": "LayoutModel",
          "model_module_version": "1.2.0",
          "state": {
            "_model_module": "@jupyter-widgets/base",
            "_model_module_version": "1.2.0",
            "_model_name": "LayoutModel",
            "_view_count": null,
            "_view_module": "@jupyter-widgets/base",
            "_view_module_version": "1.2.0",
            "_view_name": "LayoutView",
            "align_content": null,
            "align_items": null,
            "align_self": null,
            "border": null,
            "bottom": null,
            "display": null,
            "flex": null,
            "flex_flow": null,
            "grid_area": null,
            "grid_auto_columns": null,
            "grid_auto_flow": null,
            "grid_auto_rows": null,
            "grid_column": null,
            "grid_gap": null,
            "grid_row": null,
            "grid_template_areas": null,
            "grid_template_columns": null,
            "grid_template_rows": null,
            "height": null,
            "justify_content": null,
            "justify_items": null,
            "left": null,
            "margin": null,
            "max_height": null,
            "max_width": null,
            "min_height": null,
            "min_width": null,
            "object_fit": null,
            "object_position": null,
            "order": null,
            "overflow": null,
            "overflow_x": null,
            "overflow_y": null,
            "padding": null,
            "right": null,
            "top": null,
            "visibility": null,
            "width": null
          }
        },
        "fdeb342465fb45149effbdb6aa951fce": {
          "model_module": "@jupyter-widgets/controls",
          "model_name": "DescriptionStyleModel",
          "model_module_version": "1.5.0",
          "state": {
            "_model_module": "@jupyter-widgets/controls",
            "_model_module_version": "1.5.0",
            "_model_name": "DescriptionStyleModel",
            "_view_count": null,
            "_view_module": "@jupyter-widgets/base",
            "_view_module_version": "1.2.0",
            "_view_name": "StyleView",
            "description_width": ""
          }
        },
        "47ded07c99914153ae1f0c821add5d53": {
          "model_module": "@jupyter-widgets/controls",
          "model_name": "HBoxModel",
          "model_module_version": "1.5.0",
          "state": {
            "_dom_classes": [],
            "_model_module": "@jupyter-widgets/controls",
            "_model_module_version": "1.5.0",
            "_model_name": "HBoxModel",
            "_view_count": null,
            "_view_module": "@jupyter-widgets/controls",
            "_view_module_version": "1.5.0",
            "_view_name": "HBoxView",
            "box_style": "",
            "children": [
              "IPY_MODEL_c6436154853747778b9c6263b763cbd9",
              "IPY_MODEL_603a8fc796de4e5ab255b6f8dde321a6",
              "IPY_MODEL_60292ab3b01448c4bf90e17e44ce5614"
            ],
            "layout": "IPY_MODEL_db95fc923a2647a5aac63193e5713a10"
          }
        },
        "c6436154853747778b9c6263b763cbd9": {
          "model_module": "@jupyter-widgets/controls",
          "model_name": "HTMLModel",
          "model_module_version": "1.5.0",
          "state": {
            "_dom_classes": [],
            "_model_module": "@jupyter-widgets/controls",
            "_model_module_version": "1.5.0",
            "_model_name": "HTMLModel",
            "_view_count": null,
            "_view_module": "@jupyter-widgets/controls",
            "_view_module_version": "1.5.0",
            "_view_name": "HTMLView",
            "description": "",
            "description_tooltip": null,
            "layout": "IPY_MODEL_e5e8eedeeec24d7bb929cb7e7d174aa8",
            "placeholder": "​",
            "style": "IPY_MODEL_3e51bdd2818a4784a64ac7cb1a5657f6",
            "value": "Downloading: 100%"
          }
        },
        "603a8fc796de4e5ab255b6f8dde321a6": {
          "model_module": "@jupyter-widgets/controls",
          "model_name": "FloatProgressModel",
          "model_module_version": "1.5.0",
          "state": {
            "_dom_classes": [],
            "_model_module": "@jupyter-widgets/controls",
            "_model_module_version": "1.5.0",
            "_model_name": "FloatProgressModel",
            "_view_count": null,
            "_view_module": "@jupyter-widgets/controls",
            "_view_module_version": "1.5.0",
            "_view_name": "ProgressView",
            "bar_style": "success",
            "description": "",
            "description_tooltip": null,
            "layout": "IPY_MODEL_19945b0322284f1db5276bc74b1ea68b",
            "max": 483,
            "min": 0,
            "orientation": "horizontal",
            "style": "IPY_MODEL_ad3449fa5ede49328a3310c6f97c70a7",
            "value": 483
          }
        },
        "60292ab3b01448c4bf90e17e44ce5614": {
          "model_module": "@jupyter-widgets/controls",
          "model_name": "HTMLModel",
          "model_module_version": "1.5.0",
          "state": {
            "_dom_classes": [],
            "_model_module": "@jupyter-widgets/controls",
            "_model_module_version": "1.5.0",
            "_model_name": "HTMLModel",
            "_view_count": null,
            "_view_module": "@jupyter-widgets/controls",
            "_view_module_version": "1.5.0",
            "_view_name": "HTMLView",
            "description": "",
            "description_tooltip": null,
            "layout": "IPY_MODEL_0bb95baf5ca04c5ca63f9afd285c795c",
            "placeholder": "​",
            "style": "IPY_MODEL_d021a26a53de4bde9a094911a7cb5531",
            "value": " 483/483 [00:00&lt;00:00, 10.4kB/s]"
          }
        },
        "db95fc923a2647a5aac63193e5713a10": {
          "model_module": "@jupyter-widgets/base",
          "model_name": "LayoutModel",
          "model_module_version": "1.2.0",
          "state": {
            "_model_module": "@jupyter-widgets/base",
            "_model_module_version": "1.2.0",
            "_model_name": "LayoutModel",
            "_view_count": null,
            "_view_module": "@jupyter-widgets/base",
            "_view_module_version": "1.2.0",
            "_view_name": "LayoutView",
            "align_content": null,
            "align_items": null,
            "align_self": null,
            "border": null,
            "bottom": null,
            "display": null,
            "flex": null,
            "flex_flow": null,
            "grid_area": null,
            "grid_auto_columns": null,
            "grid_auto_flow": null,
            "grid_auto_rows": null,
            "grid_column": null,
            "grid_gap": null,
            "grid_row": null,
            "grid_template_areas": null,
            "grid_template_columns": null,
            "grid_template_rows": null,
            "height": null,
            "justify_content": null,
            "justify_items": null,
            "left": null,
            "margin": null,
            "max_height": null,
            "max_width": null,
            "min_height": null,
            "min_width": null,
            "object_fit": null,
            "object_position": null,
            "order": null,
            "overflow": null,
            "overflow_x": null,
            "overflow_y": null,
            "padding": null,
            "right": null,
            "top": null,
            "visibility": null,
            "width": null
          }
        },
        "e5e8eedeeec24d7bb929cb7e7d174aa8": {
          "model_module": "@jupyter-widgets/base",
          "model_name": "LayoutModel",
          "model_module_version": "1.2.0",
          "state": {
            "_model_module": "@jupyter-widgets/base",
            "_model_module_version": "1.2.0",
            "_model_name": "LayoutModel",
            "_view_count": null,
            "_view_module": "@jupyter-widgets/base",
            "_view_module_version": "1.2.0",
            "_view_name": "LayoutView",
            "align_content": null,
            "align_items": null,
            "align_self": null,
            "border": null,
            "bottom": null,
            "display": null,
            "flex": null,
            "flex_flow": null,
            "grid_area": null,
            "grid_auto_columns": null,
            "grid_auto_flow": null,
            "grid_auto_rows": null,
            "grid_column": null,
            "grid_gap": null,
            "grid_row": null,
            "grid_template_areas": null,
            "grid_template_columns": null,
            "grid_template_rows": null,
            "height": null,
            "justify_content": null,
            "justify_items": null,
            "left": null,
            "margin": null,
            "max_height": null,
            "max_width": null,
            "min_height": null,
            "min_width": null,
            "object_fit": null,
            "object_position": null,
            "order": null,
            "overflow": null,
            "overflow_x": null,
            "overflow_y": null,
            "padding": null,
            "right": null,
            "top": null,
            "visibility": null,
            "width": null
          }
        },
        "3e51bdd2818a4784a64ac7cb1a5657f6": {
          "model_module": "@jupyter-widgets/controls",
          "model_name": "DescriptionStyleModel",
          "model_module_version": "1.5.0",
          "state": {
            "_model_module": "@jupyter-widgets/controls",
            "_model_module_version": "1.5.0",
            "_model_name": "DescriptionStyleModel",
            "_view_count": null,
            "_view_module": "@jupyter-widgets/base",
            "_view_module_version": "1.2.0",
            "_view_name": "StyleView",
            "description_width": ""
          }
        },
        "19945b0322284f1db5276bc74b1ea68b": {
          "model_module": "@jupyter-widgets/base",
          "model_name": "LayoutModel",
          "model_module_version": "1.2.0",
          "state": {
            "_model_module": "@jupyter-widgets/base",
            "_model_module_version": "1.2.0",
            "_model_name": "LayoutModel",
            "_view_count": null,
            "_view_module": "@jupyter-widgets/base",
            "_view_module_version": "1.2.0",
            "_view_name": "LayoutView",
            "align_content": null,
            "align_items": null,
            "align_self": null,
            "border": null,
            "bottom": null,
            "display": null,
            "flex": null,
            "flex_flow": null,
            "grid_area": null,
            "grid_auto_columns": null,
            "grid_auto_flow": null,
            "grid_auto_rows": null,
            "grid_column": null,
            "grid_gap": null,
            "grid_row": null,
            "grid_template_areas": null,
            "grid_template_columns": null,
            "grid_template_rows": null,
            "height": null,
            "justify_content": null,
            "justify_items": null,
            "left": null,
            "margin": null,
            "max_height": null,
            "max_width": null,
            "min_height": null,
            "min_width": null,
            "object_fit": null,
            "object_position": null,
            "order": null,
            "overflow": null,
            "overflow_x": null,
            "overflow_y": null,
            "padding": null,
            "right": null,
            "top": null,
            "visibility": null,
            "width": null
          }
        },
        "ad3449fa5ede49328a3310c6f97c70a7": {
          "model_module": "@jupyter-widgets/controls",
          "model_name": "ProgressStyleModel",
          "model_module_version": "1.5.0",
          "state": {
            "_model_module": "@jupyter-widgets/controls",
            "_model_module_version": "1.5.0",
            "_model_name": "ProgressStyleModel",
            "_view_count": null,
            "_view_module": "@jupyter-widgets/base",
            "_view_module_version": "1.2.0",
            "_view_name": "StyleView",
            "bar_color": null,
            "description_width": ""
          }
        },
        "0bb95baf5ca04c5ca63f9afd285c795c": {
          "model_module": "@jupyter-widgets/base",
          "model_name": "LayoutModel",
          "model_module_version": "1.2.0",
          "state": {
            "_model_module": "@jupyter-widgets/base",
            "_model_module_version": "1.2.0",
            "_model_name": "LayoutModel",
            "_view_count": null,
            "_view_module": "@jupyter-widgets/base",
            "_view_module_version": "1.2.0",
            "_view_name": "LayoutView",
            "align_content": null,
            "align_items": null,
            "align_self": null,
            "border": null,
            "bottom": null,
            "display": null,
            "flex": null,
            "flex_flow": null,
            "grid_area": null,
            "grid_auto_columns": null,
            "grid_auto_flow": null,
            "grid_auto_rows": null,
            "grid_column": null,
            "grid_gap": null,
            "grid_row": null,
            "grid_template_areas": null,
            "grid_template_columns": null,
            "grid_template_rows": null,
            "height": null,
            "justify_content": null,
            "justify_items": null,
            "left": null,
            "margin": null,
            "max_height": null,
            "max_width": null,
            "min_height": null,
            "min_width": null,
            "object_fit": null,
            "object_position": null,
            "order": null,
            "overflow": null,
            "overflow_x": null,
            "overflow_y": null,
            "padding": null,
            "right": null,
            "top": null,
            "visibility": null,
            "width": null
          }
        },
        "d021a26a53de4bde9a094911a7cb5531": {
          "model_module": "@jupyter-widgets/controls",
          "model_name": "DescriptionStyleModel",
          "model_module_version": "1.5.0",
          "state": {
            "_model_module": "@jupyter-widgets/controls",
            "_model_module_version": "1.5.0",
            "_model_name": "DescriptionStyleModel",
            "_view_count": null,
            "_view_module": "@jupyter-widgets/base",
            "_view_module_version": "1.2.0",
            "_view_name": "StyleView",
            "description_width": ""
          }
        },
        "0489f96ebee9486d80d73eb84725a214": {
          "model_module": "@jupyter-widgets/controls",
          "model_name": "HBoxModel",
          "model_module_version": "1.5.0",
          "state": {
            "_dom_classes": [],
            "_model_module": "@jupyter-widgets/controls",
            "_model_module_version": "1.5.0",
            "_model_name": "HBoxModel",
            "_view_count": null,
            "_view_module": "@jupyter-widgets/controls",
            "_view_module_version": "1.5.0",
            "_view_name": "HBoxView",
            "box_style": "",
            "children": [
              "IPY_MODEL_c36cfa5b07d249f8b32c50982bf536c0",
              "IPY_MODEL_a842c8fb32604a12b8d5860cd397f680",
              "IPY_MODEL_525fd06bbb9f4041a35b99fdb7225aac"
            ],
            "layout": "IPY_MODEL_49e7af51c7cc47429438f9ce58cbe209"
          }
        },
        "c36cfa5b07d249f8b32c50982bf536c0": {
          "model_module": "@jupyter-widgets/controls",
          "model_name": "HTMLModel",
          "model_module_version": "1.5.0",
          "state": {
            "_dom_classes": [],
            "_model_module": "@jupyter-widgets/controls",
            "_model_module_version": "1.5.0",
            "_model_name": "HTMLModel",
            "_view_count": null,
            "_view_module": "@jupyter-widgets/controls",
            "_view_module_version": "1.5.0",
            "_view_name": "HTMLView",
            "description": "",
            "description_tooltip": null,
            "layout": "IPY_MODEL_6db1eb4f1dd942ca9b87beea8de05e38",
            "placeholder": "​",
            "style": "IPY_MODEL_bbf83a4c81b944158121f10c2bcf82e0",
            "value": "Downloading: 100%"
          }
        },
        "a842c8fb32604a12b8d5860cd397f680": {
          "model_module": "@jupyter-widgets/controls",
          "model_name": "FloatProgressModel",
          "model_module_version": "1.5.0",
          "state": {
            "_dom_classes": [],
            "_model_module": "@jupyter-widgets/controls",
            "_model_module_version": "1.5.0",
            "_model_name": "FloatProgressModel",
            "_view_count": null,
            "_view_module": "@jupyter-widgets/controls",
            "_view_module_version": "1.5.0",
            "_view_name": "ProgressView",
            "bar_style": "success",
            "description": "",
            "description_tooltip": null,
            "layout": "IPY_MODEL_3fcf354578cd4c2898934e30ee7d02e2",
            "max": 231508,
            "min": 0,
            "orientation": "horizontal",
            "style": "IPY_MODEL_5d7fb4d8e8614df0bd18b9046597076a",
            "value": 231508
          }
        },
        "525fd06bbb9f4041a35b99fdb7225aac": {
          "model_module": "@jupyter-widgets/controls",
          "model_name": "HTMLModel",
          "model_module_version": "1.5.0",
          "state": {
            "_dom_classes": [],
            "_model_module": "@jupyter-widgets/controls",
            "_model_module_version": "1.5.0",
            "_model_name": "HTMLModel",
            "_view_count": null,
            "_view_module": "@jupyter-widgets/controls",
            "_view_module_version": "1.5.0",
            "_view_name": "HTMLView",
            "description": "",
            "description_tooltip": null,
            "layout": "IPY_MODEL_a5811c218e454830b52bf06bf116118b",
            "placeholder": "​",
            "style": "IPY_MODEL_028c609a9f154235abe5a9e1431c44b1",
            "value": " 226k/226k [00:00&lt;00:00, 899kB/s]"
          }
        },
        "49e7af51c7cc47429438f9ce58cbe209": {
          "model_module": "@jupyter-widgets/base",
          "model_name": "LayoutModel",
          "model_module_version": "1.2.0",
          "state": {
            "_model_module": "@jupyter-widgets/base",
            "_model_module_version": "1.2.0",
            "_model_name": "LayoutModel",
            "_view_count": null,
            "_view_module": "@jupyter-widgets/base",
            "_view_module_version": "1.2.0",
            "_view_name": "LayoutView",
            "align_content": null,
            "align_items": null,
            "align_self": null,
            "border": null,
            "bottom": null,
            "display": null,
            "flex": null,
            "flex_flow": null,
            "grid_area": null,
            "grid_auto_columns": null,
            "grid_auto_flow": null,
            "grid_auto_rows": null,
            "grid_column": null,
            "grid_gap": null,
            "grid_row": null,
            "grid_template_areas": null,
            "grid_template_columns": null,
            "grid_template_rows": null,
            "height": null,
            "justify_content": null,
            "justify_items": null,
            "left": null,
            "margin": null,
            "max_height": null,
            "max_width": null,
            "min_height": null,
            "min_width": null,
            "object_fit": null,
            "object_position": null,
            "order": null,
            "overflow": null,
            "overflow_x": null,
            "overflow_y": null,
            "padding": null,
            "right": null,
            "top": null,
            "visibility": null,
            "width": null
          }
        },
        "6db1eb4f1dd942ca9b87beea8de05e38": {
          "model_module": "@jupyter-widgets/base",
          "model_name": "LayoutModel",
          "model_module_version": "1.2.0",
          "state": {
            "_model_module": "@jupyter-widgets/base",
            "_model_module_version": "1.2.0",
            "_model_name": "LayoutModel",
            "_view_count": null,
            "_view_module": "@jupyter-widgets/base",
            "_view_module_version": "1.2.0",
            "_view_name": "LayoutView",
            "align_content": null,
            "align_items": null,
            "align_self": null,
            "border": null,
            "bottom": null,
            "display": null,
            "flex": null,
            "flex_flow": null,
            "grid_area": null,
            "grid_auto_columns": null,
            "grid_auto_flow": null,
            "grid_auto_rows": null,
            "grid_column": null,
            "grid_gap": null,
            "grid_row": null,
            "grid_template_areas": null,
            "grid_template_columns": null,
            "grid_template_rows": null,
            "height": null,
            "justify_content": null,
            "justify_items": null,
            "left": null,
            "margin": null,
            "max_height": null,
            "max_width": null,
            "min_height": null,
            "min_width": null,
            "object_fit": null,
            "object_position": null,
            "order": null,
            "overflow": null,
            "overflow_x": null,
            "overflow_y": null,
            "padding": null,
            "right": null,
            "top": null,
            "visibility": null,
            "width": null
          }
        },
        "bbf83a4c81b944158121f10c2bcf82e0": {
          "model_module": "@jupyter-widgets/controls",
          "model_name": "DescriptionStyleModel",
          "model_module_version": "1.5.0",
          "state": {
            "_model_module": "@jupyter-widgets/controls",
            "_model_module_version": "1.5.0",
            "_model_name": "DescriptionStyleModel",
            "_view_count": null,
            "_view_module": "@jupyter-widgets/base",
            "_view_module_version": "1.2.0",
            "_view_name": "StyleView",
            "description_width": ""
          }
        },
        "3fcf354578cd4c2898934e30ee7d02e2": {
          "model_module": "@jupyter-widgets/base",
          "model_name": "LayoutModel",
          "model_module_version": "1.2.0",
          "state": {
            "_model_module": "@jupyter-widgets/base",
            "_model_module_version": "1.2.0",
            "_model_name": "LayoutModel",
            "_view_count": null,
            "_view_module": "@jupyter-widgets/base",
            "_view_module_version": "1.2.0",
            "_view_name": "LayoutView",
            "align_content": null,
            "align_items": null,
            "align_self": null,
            "border": null,
            "bottom": null,
            "display": null,
            "flex": null,
            "flex_flow": null,
            "grid_area": null,
            "grid_auto_columns": null,
            "grid_auto_flow": null,
            "grid_auto_rows": null,
            "grid_column": null,
            "grid_gap": null,
            "grid_row": null,
            "grid_template_areas": null,
            "grid_template_columns": null,
            "grid_template_rows": null,
            "height": null,
            "justify_content": null,
            "justify_items": null,
            "left": null,
            "margin": null,
            "max_height": null,
            "max_width": null,
            "min_height": null,
            "min_width": null,
            "object_fit": null,
            "object_position": null,
            "order": null,
            "overflow": null,
            "overflow_x": null,
            "overflow_y": null,
            "padding": null,
            "right": null,
            "top": null,
            "visibility": null,
            "width": null
          }
        },
        "5d7fb4d8e8614df0bd18b9046597076a": {
          "model_module": "@jupyter-widgets/controls",
          "model_name": "ProgressStyleModel",
          "model_module_version": "1.5.0",
          "state": {
            "_model_module": "@jupyter-widgets/controls",
            "_model_module_version": "1.5.0",
            "_model_name": "ProgressStyleModel",
            "_view_count": null,
            "_view_module": "@jupyter-widgets/base",
            "_view_module_version": "1.2.0",
            "_view_name": "StyleView",
            "bar_color": null,
            "description_width": ""
          }
        },
        "a5811c218e454830b52bf06bf116118b": {
          "model_module": "@jupyter-widgets/base",
          "model_name": "LayoutModel",
          "model_module_version": "1.2.0",
          "state": {
            "_model_module": "@jupyter-widgets/base",
            "_model_module_version": "1.2.0",
            "_model_name": "LayoutModel",
            "_view_count": null,
            "_view_module": "@jupyter-widgets/base",
            "_view_module_version": "1.2.0",
            "_view_name": "LayoutView",
            "align_content": null,
            "align_items": null,
            "align_self": null,
            "border": null,
            "bottom": null,
            "display": null,
            "flex": null,
            "flex_flow": null,
            "grid_area": null,
            "grid_auto_columns": null,
            "grid_auto_flow": null,
            "grid_auto_rows": null,
            "grid_column": null,
            "grid_gap": null,
            "grid_row": null,
            "grid_template_areas": null,
            "grid_template_columns": null,
            "grid_template_rows": null,
            "height": null,
            "justify_content": null,
            "justify_items": null,
            "left": null,
            "margin": null,
            "max_height": null,
            "max_width": null,
            "min_height": null,
            "min_width": null,
            "object_fit": null,
            "object_position": null,
            "order": null,
            "overflow": null,
            "overflow_x": null,
            "overflow_y": null,
            "padding": null,
            "right": null,
            "top": null,
            "visibility": null,
            "width": null
          }
        },
        "028c609a9f154235abe5a9e1431c44b1": {
          "model_module": "@jupyter-widgets/controls",
          "model_name": "DescriptionStyleModel",
          "model_module_version": "1.5.0",
          "state": {
            "_model_module": "@jupyter-widgets/controls",
            "_model_module_version": "1.5.0",
            "_model_name": "DescriptionStyleModel",
            "_view_count": null,
            "_view_module": "@jupyter-widgets/base",
            "_view_module_version": "1.2.0",
            "_view_name": "StyleView",
            "description_width": ""
          }
        },
        "5f9ba7e625354381a7e7a4e24d9291aa": {
          "model_module": "@jupyter-widgets/controls",
          "model_name": "HBoxModel",
          "model_module_version": "1.5.0",
          "state": {
            "_dom_classes": [],
            "_model_module": "@jupyter-widgets/controls",
            "_model_module_version": "1.5.0",
            "_model_name": "HBoxModel",
            "_view_count": null,
            "_view_module": "@jupyter-widgets/controls",
            "_view_module_version": "1.5.0",
            "_view_name": "HBoxView",
            "box_style": "",
            "children": [
              "IPY_MODEL_f3f9b0002f764d11a4360ad8b1a18b97",
              "IPY_MODEL_2f27e08171304db3a94eccb1bbe14390",
              "IPY_MODEL_dc38509410694c228e45592a6ecfdb8b"
            ],
            "layout": "IPY_MODEL_80fa8eef361648d294b21f249f10ed46"
          }
        },
        "f3f9b0002f764d11a4360ad8b1a18b97": {
          "model_module": "@jupyter-widgets/controls",
          "model_name": "HTMLModel",
          "model_module_version": "1.5.0",
          "state": {
            "_dom_classes": [],
            "_model_module": "@jupyter-widgets/controls",
            "_model_module_version": "1.5.0",
            "_model_name": "HTMLModel",
            "_view_count": null,
            "_view_module": "@jupyter-widgets/controls",
            "_view_module_version": "1.5.0",
            "_view_name": "HTMLView",
            "description": "",
            "description_tooltip": null,
            "layout": "IPY_MODEL_ecf186c692c04e4b978c8cc8cb60b2f4",
            "placeholder": "​",
            "style": "IPY_MODEL_f997aa2bdf1a47d7a464bc8f6b652ead",
            "value": "Downloading: 100%"
          }
        },
        "2f27e08171304db3a94eccb1bbe14390": {
          "model_module": "@jupyter-widgets/controls",
          "model_name": "FloatProgressModel",
          "model_module_version": "1.5.0",
          "state": {
            "_dom_classes": [],
            "_model_module": "@jupyter-widgets/controls",
            "_model_module_version": "1.5.0",
            "_model_name": "FloatProgressModel",
            "_view_count": null,
            "_view_module": "@jupyter-widgets/controls",
            "_view_module_version": "1.5.0",
            "_view_name": "ProgressView",
            "bar_style": "success",
            "description": "",
            "description_tooltip": null,
            "layout": "IPY_MODEL_83b2a34ab6e84f7fbfbcd01755238af3",
            "max": 466062,
            "min": 0,
            "orientation": "horizontal",
            "style": "IPY_MODEL_319cb872067b4865af5fc8facc75d250",
            "value": 466062
          }
        },
        "dc38509410694c228e45592a6ecfdb8b": {
          "model_module": "@jupyter-widgets/controls",
          "model_name": "HTMLModel",
          "model_module_version": "1.5.0",
          "state": {
            "_dom_classes": [],
            "_model_module": "@jupyter-widgets/controls",
            "_model_module_version": "1.5.0",
            "_model_name": "HTMLModel",
            "_view_count": null,
            "_view_module": "@jupyter-widgets/controls",
            "_view_module_version": "1.5.0",
            "_view_name": "HTMLView",
            "description": "",
            "description_tooltip": null,
            "layout": "IPY_MODEL_73ce450a625a4fd3b293c67564b3c60d",
            "placeholder": "​",
            "style": "IPY_MODEL_5fcbc9097e284c859b617987e0c8284e",
            "value": " 455k/455k [00:00&lt;00:00, 760kB/s]"
          }
        },
        "80fa8eef361648d294b21f249f10ed46": {
          "model_module": "@jupyter-widgets/base",
          "model_name": "LayoutModel",
          "model_module_version": "1.2.0",
          "state": {
            "_model_module": "@jupyter-widgets/base",
            "_model_module_version": "1.2.0",
            "_model_name": "LayoutModel",
            "_view_count": null,
            "_view_module": "@jupyter-widgets/base",
            "_view_module_version": "1.2.0",
            "_view_name": "LayoutView",
            "align_content": null,
            "align_items": null,
            "align_self": null,
            "border": null,
            "bottom": null,
            "display": null,
            "flex": null,
            "flex_flow": null,
            "grid_area": null,
            "grid_auto_columns": null,
            "grid_auto_flow": null,
            "grid_auto_rows": null,
            "grid_column": null,
            "grid_gap": null,
            "grid_row": null,
            "grid_template_areas": null,
            "grid_template_columns": null,
            "grid_template_rows": null,
            "height": null,
            "justify_content": null,
            "justify_items": null,
            "left": null,
            "margin": null,
            "max_height": null,
            "max_width": null,
            "min_height": null,
            "min_width": null,
            "object_fit": null,
            "object_position": null,
            "order": null,
            "overflow": null,
            "overflow_x": null,
            "overflow_y": null,
            "padding": null,
            "right": null,
            "top": null,
            "visibility": null,
            "width": null
          }
        },
        "ecf186c692c04e4b978c8cc8cb60b2f4": {
          "model_module": "@jupyter-widgets/base",
          "model_name": "LayoutModel",
          "model_module_version": "1.2.0",
          "state": {
            "_model_module": "@jupyter-widgets/base",
            "_model_module_version": "1.2.0",
            "_model_name": "LayoutModel",
            "_view_count": null,
            "_view_module": "@jupyter-widgets/base",
            "_view_module_version": "1.2.0",
            "_view_name": "LayoutView",
            "align_content": null,
            "align_items": null,
            "align_self": null,
            "border": null,
            "bottom": null,
            "display": null,
            "flex": null,
            "flex_flow": null,
            "grid_area": null,
            "grid_auto_columns": null,
            "grid_auto_flow": null,
            "grid_auto_rows": null,
            "grid_column": null,
            "grid_gap": null,
            "grid_row": null,
            "grid_template_areas": null,
            "grid_template_columns": null,
            "grid_template_rows": null,
            "height": null,
            "justify_content": null,
            "justify_items": null,
            "left": null,
            "margin": null,
            "max_height": null,
            "max_width": null,
            "min_height": null,
            "min_width": null,
            "object_fit": null,
            "object_position": null,
            "order": null,
            "overflow": null,
            "overflow_x": null,
            "overflow_y": null,
            "padding": null,
            "right": null,
            "top": null,
            "visibility": null,
            "width": null
          }
        },
        "f997aa2bdf1a47d7a464bc8f6b652ead": {
          "model_module": "@jupyter-widgets/controls",
          "model_name": "DescriptionStyleModel",
          "model_module_version": "1.5.0",
          "state": {
            "_model_module": "@jupyter-widgets/controls",
            "_model_module_version": "1.5.0",
            "_model_name": "DescriptionStyleModel",
            "_view_count": null,
            "_view_module": "@jupyter-widgets/base",
            "_view_module_version": "1.2.0",
            "_view_name": "StyleView",
            "description_width": ""
          }
        },
        "83b2a34ab6e84f7fbfbcd01755238af3": {
          "model_module": "@jupyter-widgets/base",
          "model_name": "LayoutModel",
          "model_module_version": "1.2.0",
          "state": {
            "_model_module": "@jupyter-widgets/base",
            "_model_module_version": "1.2.0",
            "_model_name": "LayoutModel",
            "_view_count": null,
            "_view_module": "@jupyter-widgets/base",
            "_view_module_version": "1.2.0",
            "_view_name": "LayoutView",
            "align_content": null,
            "align_items": null,
            "align_self": null,
            "border": null,
            "bottom": null,
            "display": null,
            "flex": null,
            "flex_flow": null,
            "grid_area": null,
            "grid_auto_columns": null,
            "grid_auto_flow": null,
            "grid_auto_rows": null,
            "grid_column": null,
            "grid_gap": null,
            "grid_row": null,
            "grid_template_areas": null,
            "grid_template_columns": null,
            "grid_template_rows": null,
            "height": null,
            "justify_content": null,
            "justify_items": null,
            "left": null,
            "margin": null,
            "max_height": null,
            "max_width": null,
            "min_height": null,
            "min_width": null,
            "object_fit": null,
            "object_position": null,
            "order": null,
            "overflow": null,
            "overflow_x": null,
            "overflow_y": null,
            "padding": null,
            "right": null,
            "top": null,
            "visibility": null,
            "width": null
          }
        },
        "319cb872067b4865af5fc8facc75d250": {
          "model_module": "@jupyter-widgets/controls",
          "model_name": "ProgressStyleModel",
          "model_module_version": "1.5.0",
          "state": {
            "_model_module": "@jupyter-widgets/controls",
            "_model_module_version": "1.5.0",
            "_model_name": "ProgressStyleModel",
            "_view_count": null,
            "_view_module": "@jupyter-widgets/base",
            "_view_module_version": "1.2.0",
            "_view_name": "StyleView",
            "bar_color": null,
            "description_width": ""
          }
        },
        "73ce450a625a4fd3b293c67564b3c60d": {
          "model_module": "@jupyter-widgets/base",
          "model_name": "LayoutModel",
          "model_module_version": "1.2.0",
          "state": {
            "_model_module": "@jupyter-widgets/base",
            "_model_module_version": "1.2.0",
            "_model_name": "LayoutModel",
            "_view_count": null,
            "_view_module": "@jupyter-widgets/base",
            "_view_module_version": "1.2.0",
            "_view_name": "LayoutView",
            "align_content": null,
            "align_items": null,
            "align_self": null,
            "border": null,
            "bottom": null,
            "display": null,
            "flex": null,
            "flex_flow": null,
            "grid_area": null,
            "grid_auto_columns": null,
            "grid_auto_flow": null,
            "grid_auto_rows": null,
            "grid_column": null,
            "grid_gap": null,
            "grid_row": null,
            "grid_template_areas": null,
            "grid_template_columns": null,
            "grid_template_rows": null,
            "height": null,
            "justify_content": null,
            "justify_items": null,
            "left": null,
            "margin": null,
            "max_height": null,
            "max_width": null,
            "min_height": null,
            "min_width": null,
            "object_fit": null,
            "object_position": null,
            "order": null,
            "overflow": null,
            "overflow_x": null,
            "overflow_y": null,
            "padding": null,
            "right": null,
            "top": null,
            "visibility": null,
            "width": null
          }
        },
        "5fcbc9097e284c859b617987e0c8284e": {
          "model_module": "@jupyter-widgets/controls",
          "model_name": "DescriptionStyleModel",
          "model_module_version": "1.5.0",
          "state": {
            "_model_module": "@jupyter-widgets/controls",
            "_model_module_version": "1.5.0",
            "_model_name": "DescriptionStyleModel",
            "_view_count": null,
            "_view_module": "@jupyter-widgets/base",
            "_view_module_version": "1.2.0",
            "_view_name": "StyleView",
            "description_width": ""
          }
        },
        "4043430dda7d48879bc242339c689360": {
          "model_module": "@jupyter-widgets/controls",
          "model_name": "HBoxModel",
          "model_module_version": "1.5.0",
          "state": {
            "_dom_classes": [],
            "_model_module": "@jupyter-widgets/controls",
            "_model_module_version": "1.5.0",
            "_model_name": "HBoxModel",
            "_view_count": null,
            "_view_module": "@jupyter-widgets/controls",
            "_view_module_version": "1.5.0",
            "_view_name": "HBoxView",
            "box_style": "",
            "children": [
              "IPY_MODEL_d60ce878e5684368adf48a2ad4a7cb92",
              "IPY_MODEL_bf13ad61fbe44057a8ad9e768d4dbd46",
              "IPY_MODEL_6e0fd668bde54a02927f1065d4dcb3fe"
            ],
            "layout": "IPY_MODEL_c72e0861521141bc9691344b11870de2"
          }
        },
        "d60ce878e5684368adf48a2ad4a7cb92": {
          "model_module": "@jupyter-widgets/controls",
          "model_name": "HTMLModel",
          "model_module_version": "1.5.0",
          "state": {
            "_dom_classes": [],
            "_model_module": "@jupyter-widgets/controls",
            "_model_module_version": "1.5.0",
            "_model_name": "HTMLModel",
            "_view_count": null,
            "_view_module": "@jupyter-widgets/controls",
            "_view_module_version": "1.5.0",
            "_view_name": "HTMLView",
            "description": "",
            "description_tooltip": null,
            "layout": "IPY_MODEL_28df23c36b1e492faf9d8dde81bea2ac",
            "placeholder": "​",
            "style": "IPY_MODEL_f1907ea993e341598d160a1af955b9c1",
            "value": "Downloading: 100%"
          }
        },
        "bf13ad61fbe44057a8ad9e768d4dbd46": {
          "model_module": "@jupyter-widgets/controls",
          "model_name": "FloatProgressModel",
          "model_module_version": "1.5.0",
          "state": {
            "_dom_classes": [],
            "_model_module": "@jupyter-widgets/controls",
            "_model_module_version": "1.5.0",
            "_model_name": "FloatProgressModel",
            "_view_count": null,
            "_view_module": "@jupyter-widgets/controls",
            "_view_module_version": "1.5.0",
            "_view_name": "ProgressView",
            "bar_style": "success",
            "description": "",
            "description_tooltip": null,
            "layout": "IPY_MODEL_fed0945dea894eeea9e38c6330c406a7",
            "max": 363423424,
            "min": 0,
            "orientation": "horizontal",
            "style": "IPY_MODEL_9b7a4f5e0e73440288fca1f925ef05a3",
            "value": 363423424
          }
        },
        "6e0fd668bde54a02927f1065d4dcb3fe": {
          "model_module": "@jupyter-widgets/controls",
          "model_name": "HTMLModel",
          "model_module_version": "1.5.0",
          "state": {
            "_dom_classes": [],
            "_model_module": "@jupyter-widgets/controls",
            "_model_module_version": "1.5.0",
            "_model_name": "HTMLModel",
            "_view_count": null,
            "_view_module": "@jupyter-widgets/controls",
            "_view_module_version": "1.5.0",
            "_view_name": "HTMLView",
            "description": "",
            "description_tooltip": null,
            "layout": "IPY_MODEL_73e958fe639c4331bdb39939f2138ce5",
            "placeholder": "​",
            "style": "IPY_MODEL_cac6180c0baa44bf818b4fd05ac339ff",
            "value": " 347M/347M [00:13&lt;00:00, 35.3MB/s]"
          }
        },
        "c72e0861521141bc9691344b11870de2": {
          "model_module": "@jupyter-widgets/base",
          "model_name": "LayoutModel",
          "model_module_version": "1.2.0",
          "state": {
            "_model_module": "@jupyter-widgets/base",
            "_model_module_version": "1.2.0",
            "_model_name": "LayoutModel",
            "_view_count": null,
            "_view_module": "@jupyter-widgets/base",
            "_view_module_version": "1.2.0",
            "_view_name": "LayoutView",
            "align_content": null,
            "align_items": null,
            "align_self": null,
            "border": null,
            "bottom": null,
            "display": null,
            "flex": null,
            "flex_flow": null,
            "grid_area": null,
            "grid_auto_columns": null,
            "grid_auto_flow": null,
            "grid_auto_rows": null,
            "grid_column": null,
            "grid_gap": null,
            "grid_row": null,
            "grid_template_areas": null,
            "grid_template_columns": null,
            "grid_template_rows": null,
            "height": null,
            "justify_content": null,
            "justify_items": null,
            "left": null,
            "margin": null,
            "max_height": null,
            "max_width": null,
            "min_height": null,
            "min_width": null,
            "object_fit": null,
            "object_position": null,
            "order": null,
            "overflow": null,
            "overflow_x": null,
            "overflow_y": null,
            "padding": null,
            "right": null,
            "top": null,
            "visibility": null,
            "width": null
          }
        },
        "28df23c36b1e492faf9d8dde81bea2ac": {
          "model_module": "@jupyter-widgets/base",
          "model_name": "LayoutModel",
          "model_module_version": "1.2.0",
          "state": {
            "_model_module": "@jupyter-widgets/base",
            "_model_module_version": "1.2.0",
            "_model_name": "LayoutModel",
            "_view_count": null,
            "_view_module": "@jupyter-widgets/base",
            "_view_module_version": "1.2.0",
            "_view_name": "LayoutView",
            "align_content": null,
            "align_items": null,
            "align_self": null,
            "border": null,
            "bottom": null,
            "display": null,
            "flex": null,
            "flex_flow": null,
            "grid_area": null,
            "grid_auto_columns": null,
            "grid_auto_flow": null,
            "grid_auto_rows": null,
            "grid_column": null,
            "grid_gap": null,
            "grid_row": null,
            "grid_template_areas": null,
            "grid_template_columns": null,
            "grid_template_rows": null,
            "height": null,
            "justify_content": null,
            "justify_items": null,
            "left": null,
            "margin": null,
            "max_height": null,
            "max_width": null,
            "min_height": null,
            "min_width": null,
            "object_fit": null,
            "object_position": null,
            "order": null,
            "overflow": null,
            "overflow_x": null,
            "overflow_y": null,
            "padding": null,
            "right": null,
            "top": null,
            "visibility": null,
            "width": null
          }
        },
        "f1907ea993e341598d160a1af955b9c1": {
          "model_module": "@jupyter-widgets/controls",
          "model_name": "DescriptionStyleModel",
          "model_module_version": "1.5.0",
          "state": {
            "_model_module": "@jupyter-widgets/controls",
            "_model_module_version": "1.5.0",
            "_model_name": "DescriptionStyleModel",
            "_view_count": null,
            "_view_module": "@jupyter-widgets/base",
            "_view_module_version": "1.2.0",
            "_view_name": "StyleView",
            "description_width": ""
          }
        },
        "fed0945dea894eeea9e38c6330c406a7": {
          "model_module": "@jupyter-widgets/base",
          "model_name": "LayoutModel",
          "model_module_version": "1.2.0",
          "state": {
            "_model_module": "@jupyter-widgets/base",
            "_model_module_version": "1.2.0",
            "_model_name": "LayoutModel",
            "_view_count": null,
            "_view_module": "@jupyter-widgets/base",
            "_view_module_version": "1.2.0",
            "_view_name": "LayoutView",
            "align_content": null,
            "align_items": null,
            "align_self": null,
            "border": null,
            "bottom": null,
            "display": null,
            "flex": null,
            "flex_flow": null,
            "grid_area": null,
            "grid_auto_columns": null,
            "grid_auto_flow": null,
            "grid_auto_rows": null,
            "grid_column": null,
            "grid_gap": null,
            "grid_row": null,
            "grid_template_areas": null,
            "grid_template_columns": null,
            "grid_template_rows": null,
            "height": null,
            "justify_content": null,
            "justify_items": null,
            "left": null,
            "margin": null,
            "max_height": null,
            "max_width": null,
            "min_height": null,
            "min_width": null,
            "object_fit": null,
            "object_position": null,
            "order": null,
            "overflow": null,
            "overflow_x": null,
            "overflow_y": null,
            "padding": null,
            "right": null,
            "top": null,
            "visibility": null,
            "width": null
          }
        },
        "9b7a4f5e0e73440288fca1f925ef05a3": {
          "model_module": "@jupyter-widgets/controls",
          "model_name": "ProgressStyleModel",
          "model_module_version": "1.5.0",
          "state": {
            "_model_module": "@jupyter-widgets/controls",
            "_model_module_version": "1.5.0",
            "_model_name": "ProgressStyleModel",
            "_view_count": null,
            "_view_module": "@jupyter-widgets/base",
            "_view_module_version": "1.2.0",
            "_view_name": "StyleView",
            "bar_color": null,
            "description_width": ""
          }
        },
        "73e958fe639c4331bdb39939f2138ce5": {
          "model_module": "@jupyter-widgets/base",
          "model_name": "LayoutModel",
          "model_module_version": "1.2.0",
          "state": {
            "_model_module": "@jupyter-widgets/base",
            "_model_module_version": "1.2.0",
            "_model_name": "LayoutModel",
            "_view_count": null,
            "_view_module": "@jupyter-widgets/base",
            "_view_module_version": "1.2.0",
            "_view_name": "LayoutView",
            "align_content": null,
            "align_items": null,
            "align_self": null,
            "border": null,
            "bottom": null,
            "display": null,
            "flex": null,
            "flex_flow": null,
            "grid_area": null,
            "grid_auto_columns": null,
            "grid_auto_flow": null,
            "grid_auto_rows": null,
            "grid_column": null,
            "grid_gap": null,
            "grid_row": null,
            "grid_template_areas": null,
            "grid_template_columns": null,
            "grid_template_rows": null,
            "height": null,
            "justify_content": null,
            "justify_items": null,
            "left": null,
            "margin": null,
            "max_height": null,
            "max_width": null,
            "min_height": null,
            "min_width": null,
            "object_fit": null,
            "object_position": null,
            "order": null,
            "overflow": null,
            "overflow_x": null,
            "overflow_y": null,
            "padding": null,
            "right": null,
            "top": null,
            "visibility": null,
            "width": null
          }
        },
        "cac6180c0baa44bf818b4fd05ac339ff": {
          "model_module": "@jupyter-widgets/controls",
          "model_name": "DescriptionStyleModel",
          "model_module_version": "1.5.0",
          "state": {
            "_model_module": "@jupyter-widgets/controls",
            "_model_module_version": "1.5.0",
            "_model_name": "DescriptionStyleModel",
            "_view_count": null,
            "_view_module": "@jupyter-widgets/base",
            "_view_module_version": "1.2.0",
            "_view_name": "StyleView",
            "description_width": ""
          }
        }
      }
    }
  },
  "cells": [
    {
      "cell_type": "markdown",
      "metadata": {
        "id": "view-in-github",
        "colab_type": "text"
      },
      "source": [
        "<a href=\"https://colab.research.google.com/github/palakagl/NLP/blob/main/Wysdom_DistilBert_FT_2.ipynb\" target=\"_parent\"><img src=\"https://colab.research.google.com/assets/colab-badge.svg\" alt=\"Open In Colab\"/></a>"
      ]
    },
    {
      "cell_type": "code",
      "metadata": {
        "id": "hZj4c0xTeMwH",
        "colab": {
          "base_uri": "https://localhost:8080/"
        },
        "outputId": "dc3f0dfc-eb42-4953-fc78-013bdbed98c5"
      },
      "source": [
        "# This cell installs and sets up DistilBert import, as well as the dataset, which we will \n",
        "# use tf.datasets to load (https://www.tensorflow.org/datasets/catalog/overview)\n",
        "\n",
        "!pip install -q transformers tfds-nightly\n",
        "\n",
        "import matplotlib.pyplot as plt\n",
        "import tensorflow as tf\n",
        "import tensorflow.keras as keras\n",
        "import pandas as pd\n",
        "from sklearn.model_selection import train_test_split\n",
        "from sklearn.metrics.cluster import adjusted_rand_score, adjusted_mutual_info_score\n",
        "from sklearn.preprocessing import LabelEncoder\n",
        "\n",
        "try: # this is only working on the 2nd try in colab :)\n",
        "  from transformers import DistilBertTokenizer, TFDistilBertModel, DistilBertConfig, AutoTokenizer, AutoModel, AutoConfig\n",
        "except Exception as err: # so we catch the error and import it again\n",
        "  from transformers import DistilBertTokenizer, TFDistilBertModel, DistilBertConfig, AutoTokenizer, AutoModel, AutoConfig\n",
        "\n",
        "import numpy as np\n",
        "import tensorflow.keras as keras\n",
        "from tensorflow.keras.layers import Dense, Input, Dropout, Flatten\n",
        "from tensorflow.keras import regularizers\n",
        "from tensorflow.keras.callbacks import ModelCheckpoint, EarlyStopping\n",
        "from sklearn.metrics.cluster import adjusted_rand_score, adjusted_mutual_info_score\n",
        "\n",
        "import tensorflow_datasets as tfds\n",
        "\n",
        "import re\n",
        "\n",
        "import yellowbrick"
      ],
      "execution_count": null,
      "outputs": [
        {
          "output_type": "stream",
          "name": "stdout",
          "text": [
            "\u001b[K     |████████████████████████████████| 4.0 MB 8.6 MB/s \n",
            "\u001b[K     |████████████████████████████████| 4.3 MB 37.0 MB/s \n",
            "\u001b[K     |████████████████████████████████| 6.6 MB 49.8 MB/s \n",
            "\u001b[K     |████████████████████████████████| 596 kB 46.9 MB/s \n",
            "\u001b[K     |████████████████████████████████| 77 kB 5.6 MB/s \n",
            "\u001b[K     |████████████████████████████████| 895 kB 45.1 MB/s \n",
            "\u001b[K     |████████████████████████████████| 86 kB 5.0 MB/s \n",
            "\u001b[?25h"
          ]
        }
      ]
    },
    {
      "cell_type": "code",
      "source": [
        "# Mount Google drive so dataset can be accessed\n",
        "from google.colab import drive\n",
        "drive.mount('/content/drive')"
      ],
      "metadata": {
        "id": "1ymezdl5J0Lz",
        "colab": {
          "base_uri": "https://localhost:8080/"
        },
        "outputId": "de4ee51d-5295-4b6a-804a-868592568faf"
      },
      "execution_count": null,
      "outputs": [
        {
          "output_type": "stream",
          "name": "stdout",
          "text": [
            "Mounted at /content/drive\n"
          ]
        }
      ]
    },
    {
      "cell_type": "markdown",
      "source": [
        "# Data Preparation"
      ],
      "metadata": {
        "id": "jHvJJjnCRYF2"
      }
    },
    {
      "cell_type": "code",
      "source": [
        "def load_data(file_path):\n",
        "  data_df = pd.read_csv(file_path)\n",
        "  return data_df\n",
        "\n",
        "orig_data = load_data('/content/drive/MyDrive/Colab Notebooks/data/public_data.csv')\n",
        "orig_data"
      ],
      "metadata": {
        "id": "q3gYLKfEd0Hb",
        "colab": {
          "base_uri": "https://localhost:8080/",
          "height": 424
        },
        "outputId": "27dd161c-cd02-4cde-a442-e067df6cad9d"
      },
      "execution_count": null,
      "outputs": [
        {
          "output_type": "execute_result",
          "data": {
            "text/plain": [
              "         id                                            message  \\\n",
              "0     10480                           start the robotic vacuum   \n",
              "1      4210          i am sorry but i think you are not right.   \n",
              "2      2443  what is the time difference between california...   \n",
              "3      5869                              tell me my list names   \n",
              "4      2801                 beep when i get an email from john   \n",
              "...     ...                                                ...   \n",
              "8879   9708             search for a train ticket to newcastle   \n",
              "8880   8278               is there a food festival in the area   \n",
              "8881  10509                       make the lights blue in here   \n",
              "8882   7046                           play from favorites song   \n",
              "8883    248                                send a replay email   \n",
              "\n",
              "                      label  \n",
              "0              iot_cleaning  \n",
              "1            general_negate  \n",
              "2          datetime_convert  \n",
              "3               lists_query  \n",
              "4               email_query  \n",
              "...                     ...  \n",
              "8879       transport_ticket  \n",
              "8880  recommendation_events  \n",
              "8881    iot_hue_lightchange  \n",
              "8882             play_music  \n",
              "8883        email_sendemail  \n",
              "\n",
              "[8884 rows x 3 columns]"
            ],
            "text/html": [
              "\n",
              "  <div id=\"df-7628c82e-e353-4c20-93da-4c14db488ec1\">\n",
              "    <div class=\"colab-df-container\">\n",
              "      <div>\n",
              "<style scoped>\n",
              "    .dataframe tbody tr th:only-of-type {\n",
              "        vertical-align: middle;\n",
              "    }\n",
              "\n",
              "    .dataframe tbody tr th {\n",
              "        vertical-align: top;\n",
              "    }\n",
              "\n",
              "    .dataframe thead th {\n",
              "        text-align: right;\n",
              "    }\n",
              "</style>\n",
              "<table border=\"1\" class=\"dataframe\">\n",
              "  <thead>\n",
              "    <tr style=\"text-align: right;\">\n",
              "      <th></th>\n",
              "      <th>id</th>\n",
              "      <th>message</th>\n",
              "      <th>label</th>\n",
              "    </tr>\n",
              "  </thead>\n",
              "  <tbody>\n",
              "    <tr>\n",
              "      <th>0</th>\n",
              "      <td>10480</td>\n",
              "      <td>start the robotic vacuum</td>\n",
              "      <td>iot_cleaning</td>\n",
              "    </tr>\n",
              "    <tr>\n",
              "      <th>1</th>\n",
              "      <td>4210</td>\n",
              "      <td>i am sorry but i think you are not right.</td>\n",
              "      <td>general_negate</td>\n",
              "    </tr>\n",
              "    <tr>\n",
              "      <th>2</th>\n",
              "      <td>2443</td>\n",
              "      <td>what is the time difference between california...</td>\n",
              "      <td>datetime_convert</td>\n",
              "    </tr>\n",
              "    <tr>\n",
              "      <th>3</th>\n",
              "      <td>5869</td>\n",
              "      <td>tell me my list names</td>\n",
              "      <td>lists_query</td>\n",
              "    </tr>\n",
              "    <tr>\n",
              "      <th>4</th>\n",
              "      <td>2801</td>\n",
              "      <td>beep when i get an email from john</td>\n",
              "      <td>email_query</td>\n",
              "    </tr>\n",
              "    <tr>\n",
              "      <th>...</th>\n",
              "      <td>...</td>\n",
              "      <td>...</td>\n",
              "      <td>...</td>\n",
              "    </tr>\n",
              "    <tr>\n",
              "      <th>8879</th>\n",
              "      <td>9708</td>\n",
              "      <td>search for a train ticket to newcastle</td>\n",
              "      <td>transport_ticket</td>\n",
              "    </tr>\n",
              "    <tr>\n",
              "      <th>8880</th>\n",
              "      <td>8278</td>\n",
              "      <td>is there a food festival in the area</td>\n",
              "      <td>recommendation_events</td>\n",
              "    </tr>\n",
              "    <tr>\n",
              "      <th>8881</th>\n",
              "      <td>10509</td>\n",
              "      <td>make the lights blue in here</td>\n",
              "      <td>iot_hue_lightchange</td>\n",
              "    </tr>\n",
              "    <tr>\n",
              "      <th>8882</th>\n",
              "      <td>7046</td>\n",
              "      <td>play from favorites song</td>\n",
              "      <td>play_music</td>\n",
              "    </tr>\n",
              "    <tr>\n",
              "      <th>8883</th>\n",
              "      <td>248</td>\n",
              "      <td>send a replay email</td>\n",
              "      <td>email_sendemail</td>\n",
              "    </tr>\n",
              "  </tbody>\n",
              "</table>\n",
              "<p>8884 rows × 3 columns</p>\n",
              "</div>\n",
              "      <button class=\"colab-df-convert\" onclick=\"convertToInteractive('df-7628c82e-e353-4c20-93da-4c14db488ec1')\"\n",
              "              title=\"Convert this dataframe to an interactive table.\"\n",
              "              style=\"display:none;\">\n",
              "        \n",
              "  <svg xmlns=\"http://www.w3.org/2000/svg\" height=\"24px\"viewBox=\"0 0 24 24\"\n",
              "       width=\"24px\">\n",
              "    <path d=\"M0 0h24v24H0V0z\" fill=\"none\"/>\n",
              "    <path d=\"M18.56 5.44l.94 2.06.94-2.06 2.06-.94-2.06-.94-.94-2.06-.94 2.06-2.06.94zm-11 1L8.5 8.5l.94-2.06 2.06-.94-2.06-.94L8.5 2.5l-.94 2.06-2.06.94zm10 10l.94 2.06.94-2.06 2.06-.94-2.06-.94-.94-2.06-.94 2.06-2.06.94z\"/><path d=\"M17.41 7.96l-1.37-1.37c-.4-.4-.92-.59-1.43-.59-.52 0-1.04.2-1.43.59L10.3 9.45l-7.72 7.72c-.78.78-.78 2.05 0 2.83L4 21.41c.39.39.9.59 1.41.59.51 0 1.02-.2 1.41-.59l7.78-7.78 2.81-2.81c.8-.78.8-2.07 0-2.86zM5.41 20L4 18.59l7.72-7.72 1.47 1.35L5.41 20z\"/>\n",
              "  </svg>\n",
              "      </button>\n",
              "      \n",
              "  <style>\n",
              "    .colab-df-container {\n",
              "      display:flex;\n",
              "      flex-wrap:wrap;\n",
              "      gap: 12px;\n",
              "    }\n",
              "\n",
              "    .colab-df-convert {\n",
              "      background-color: #E8F0FE;\n",
              "      border: none;\n",
              "      border-radius: 50%;\n",
              "      cursor: pointer;\n",
              "      display: none;\n",
              "      fill: #1967D2;\n",
              "      height: 32px;\n",
              "      padding: 0 0 0 0;\n",
              "      width: 32px;\n",
              "    }\n",
              "\n",
              "    .colab-df-convert:hover {\n",
              "      background-color: #E2EBFA;\n",
              "      box-shadow: 0px 1px 2px rgba(60, 64, 67, 0.3), 0px 1px 3px 1px rgba(60, 64, 67, 0.15);\n",
              "      fill: #174EA6;\n",
              "    }\n",
              "\n",
              "    [theme=dark] .colab-df-convert {\n",
              "      background-color: #3B4455;\n",
              "      fill: #D2E3FC;\n",
              "    }\n",
              "\n",
              "    [theme=dark] .colab-df-convert:hover {\n",
              "      background-color: #434B5C;\n",
              "      box-shadow: 0px 1px 3px 1px rgba(0, 0, 0, 0.15);\n",
              "      filter: drop-shadow(0px 1px 2px rgba(0, 0, 0, 0.3));\n",
              "      fill: #FFFFFF;\n",
              "    }\n",
              "  </style>\n",
              "\n",
              "      <script>\n",
              "        const buttonEl =\n",
              "          document.querySelector('#df-7628c82e-e353-4c20-93da-4c14db488ec1 button.colab-df-convert');\n",
              "        buttonEl.style.display =\n",
              "          google.colab.kernel.accessAllowed ? 'block' : 'none';\n",
              "\n",
              "        async function convertToInteractive(key) {\n",
              "          const element = document.querySelector('#df-7628c82e-e353-4c20-93da-4c14db488ec1');\n",
              "          const dataTable =\n",
              "            await google.colab.kernel.invokeFunction('convertToInteractive',\n",
              "                                                     [key], {});\n",
              "          if (!dataTable) return;\n",
              "\n",
              "          const docLinkHtml = 'Like what you see? Visit the ' +\n",
              "            '<a target=\"_blank\" href=https://colab.research.google.com/notebooks/data_table.ipynb>data table notebook</a>'\n",
              "            + ' to learn more about interactive tables.';\n",
              "          element.innerHTML = '';\n",
              "          dataTable['output_type'] = 'display_data';\n",
              "          await google.colab.output.renderOutput(dataTable, element);\n",
              "          const docLink = document.createElement('div');\n",
              "          docLink.innerHTML = docLinkHtml;\n",
              "          element.appendChild(docLink);\n",
              "        }\n",
              "      </script>\n",
              "    </div>\n",
              "  </div>\n",
              "  "
            ]
          },
          "metadata": {},
          "execution_count": 3
        }
      ]
    },
    {
      "cell_type": "code",
      "source": [
        "orig_data.drop_duplicates(inplace= True)"
      ],
      "metadata": {
        "id": "gX982idqTINz"
      },
      "execution_count": null,
      "outputs": []
    },
    {
      "cell_type": "code",
      "source": [
        "orig_data.isna().sum()"
      ],
      "metadata": {
        "colab": {
          "base_uri": "https://localhost:8080/"
        },
        "id": "dW9TNeaAToOS",
        "outputId": "c16e07d8-b1fd-457e-937c-d281d859c140"
      },
      "execution_count": null,
      "outputs": [
        {
          "output_type": "execute_result",
          "data": {
            "text/plain": [
              "id         0\n",
              "message    0\n",
              "label      0\n",
              "dtype: int64"
            ]
          },
          "metadata": {},
          "execution_count": 5
        }
      ]
    },
    {
      "cell_type": "code",
      "source": [
        "max_words = []\n",
        "for row in orig_data['message']:\n",
        "    max_words.append(len(row.split()))\n",
        "print(f\"The max word count is {np.asarray(max_words).max()}\")"
      ],
      "metadata": {
        "colab": {
          "base_uri": "https://localhost:8080/"
        },
        "id": "O6SZBEMHT1Qj",
        "outputId": "2a6312e7-0f74-46b0-fe92-797fe8a07806"
      },
      "execution_count": null,
      "outputs": [
        {
          "output_type": "stream",
          "name": "stdout",
          "text": [
            "The max word count is 25\n"
          ]
        }
      ]
    },
    {
      "cell_type": "markdown",
      "source": [
        "#Split Data\n",
        "\n",
        "## Training Data Split"
      ],
      "metadata": {
        "id": "hCPAiqgANblk"
      }
    },
    {
      "cell_type": "code",
      "source": [
        "def extract_text_and_y(df, test_size):\n",
        "\n",
        "  text = df['message'].tolist()\n",
        "\n",
        "  le = LabelEncoder()\n",
        "  df['label_encoded'] = le.fit_transform(df['label'])\n",
        "  y = df['label_encoded']\n",
        "\n",
        "  label_dict = (df[['label','label_encoded']].drop_duplicates()\n",
        "              .sort_values(by='label_encoded')\n",
        "              .reset_index(drop=True)['label']\n",
        "              .to_dict())\n",
        "  \n",
        "\n",
        "\n",
        "  X_train, X_val, y_train, y_val = train_test_split(text, y, test_size=test_size, random_state=2)\n",
        "  return X_train, X_val, y_train, y_val, label_dict\n",
        "\n",
        "# the following prepares the input for running in DistilBert\n",
        "train_text, val_text, train_y, val_y, label_dict = extract_text_and_y(orig_data, 0.20)"
      ],
      "metadata": {
        "id": "_RBthPA0fcTA"
      },
      "execution_count": null,
      "outputs": []
    },
    {
      "cell_type": "code",
      "source": [
        "label_dict"
      ],
      "metadata": {
        "colab": {
          "base_uri": "https://localhost:8080/"
        },
        "id": "Tc2JZ8sxG-hu",
        "outputId": "112869de-7a87-4b89-e4c8-6a31326d2a44"
      },
      "execution_count": null,
      "outputs": [
        {
          "output_type": "execute_result",
          "data": {
            "text/plain": [
              "{0: 'alarm_query',\n",
              " 1: 'alarm_remove',\n",
              " 2: 'alarm_set',\n",
              " 3: 'audio_volume_down',\n",
              " 4: 'audio_volume_mute',\n",
              " 5: 'audio_volume_up',\n",
              " 6: 'calendar_query',\n",
              " 7: 'calendar_remove',\n",
              " 8: 'calendar_set',\n",
              " 9: 'cooking_recipe',\n",
              " 10: 'datetime_convert',\n",
              " 11: 'datetime_query',\n",
              " 12: 'email_addcontact',\n",
              " 13: 'email_query',\n",
              " 14: 'email_querycontact',\n",
              " 15: 'email_sendemail',\n",
              " 16: 'general_affirm',\n",
              " 17: 'general_commandstop',\n",
              " 18: 'general_confirm',\n",
              " 19: 'general_dontcare',\n",
              " 20: 'general_explain',\n",
              " 21: 'general_joke',\n",
              " 22: 'general_negate',\n",
              " 23: 'general_praise',\n",
              " 24: 'general_quirky',\n",
              " 25: 'general_repeat',\n",
              " 26: 'iot_cleaning',\n",
              " 27: 'iot_coffee',\n",
              " 28: 'iot_hue_lightchange',\n",
              " 29: 'iot_hue_lightdim',\n",
              " 30: 'iot_hue_lightoff',\n",
              " 31: 'iot_hue_lighton',\n",
              " 32: 'iot_hue_lightup',\n",
              " 33: 'iot_wemo_off',\n",
              " 34: 'iot_wemo_on',\n",
              " 35: 'lists_createoradd',\n",
              " 36: 'lists_query',\n",
              " 37: 'lists_remove',\n",
              " 38: 'music_likeness',\n",
              " 39: 'music_query',\n",
              " 40: 'music_settings',\n",
              " 41: 'news_query',\n",
              " 42: 'play_audiobook',\n",
              " 43: 'play_game',\n",
              " 44: 'play_music',\n",
              " 45: 'play_podcasts',\n",
              " 46: 'play_radio',\n",
              " 47: 'qa_currency',\n",
              " 48: 'qa_definition',\n",
              " 49: 'qa_factoid',\n",
              " 50: 'qa_maths',\n",
              " 51: 'qa_stock',\n",
              " 52: 'recommendation_events',\n",
              " 53: 'recommendation_locations',\n",
              " 54: 'recommendation_movies',\n",
              " 55: 'social_post',\n",
              " 56: 'social_query',\n",
              " 57: 'takeaway_order',\n",
              " 58: 'takeaway_query',\n",
              " 59: 'transport_query',\n",
              " 60: 'transport_taxi',\n",
              " 61: 'transport_ticket',\n",
              " 62: 'transport_traffic',\n",
              " 63: 'weather_query'}"
            ]
          },
          "metadata": {},
          "execution_count": 11
        }
      ]
    },
    {
      "cell_type": "markdown",
      "source": [
        "### Visualize Data"
      ],
      "metadata": {
        "id": "mXYXnSLUQPnr"
      }
    },
    {
      "cell_type": "code",
      "source": [
        "# Get length of all the messages in the train set\n",
        "seq_len = [len(i.split()) for i in train_text]\n",
        "\n",
        "pd.Series(seq_len).hist(bins = 30)"
      ],
      "metadata": {
        "colab": {
          "base_uri": "https://localhost:8080/",
          "height": 282
        },
        "id": "BEYh7BgKP31K",
        "outputId": "569ddbc2-ccc9-4361-aacc-d735d2520064"
      },
      "execution_count": null,
      "outputs": [
        {
          "output_type": "execute_result",
          "data": {
            "text/plain": [
              "<matplotlib.axes._subplots.AxesSubplot at 0x7efac393aa90>"
            ]
          },
          "metadata": {},
          "execution_count": 12
        },
        {
          "output_type": "display_data",
          "data": {
            "text/plain": [
              "<Figure size 432x288 with 1 Axes>"
            ],
            "image/png": "[encoded data removed]"
          },
          "metadata": {
            "needs_background": "light"
          }
        }
      ]
    },
    {
      "cell_type": "markdown",
      "source": [
        "## Creating Embeddings using DistilBERT "
      ],
      "metadata": {
        "id": "M5mSR4zZQXIy"
      }
    },
    {
      "cell_type": "code",
      "source": [
        "#Get DistilBERT Tokenizer\n",
        "tokenizer = AutoTokenizer.from_pretrained('distilbert-base-uncased')"
      ],
      "metadata": {
        "id": "6KFNaMH3ZrsR",
        "colab": {
          "base_uri": "https://localhost:8080/",
          "height": 145,
          "referenced_widgets": [
            "f75d6c3e5e0647dfa2f009fa106881f5",
            "f08f045dab8b4019920e49d4362b82ca",
            "4b9906ed9565449e9e86f0e4fb2ed631",
            "d5f56106e17141baa95bf8a7e6bb8811",
            "025c89483e2d479a91c8d3451025413d",
            "2ffeb6a601e44e75a37cc633afd8f827",
            "3b88a8fd8ba14460849ebdedb2f771e0",
            "3c24371f3187430a9a47db2d503acd2f",
            "8427bc47a7bf4271b72a36849ee5b297",
            "64860c6c1a8846f9a5a2c2a30ec68414",
            "fdeb342465fb45149effbdb6aa951fce",
            "47ded07c99914153ae1f0c821add5d53",
            "c6436154853747778b9c6263b763cbd9",
            "603a8fc796de4e5ab255b6f8dde321a6",
            "60292ab3b01448c4bf90e17e44ce5614",
            "db95fc923a2647a5aac63193e5713a10",
            "e5e8eedeeec24d7bb929cb7e7d174aa8",
            "3e51bdd2818a4784a64ac7cb1a5657f6",
            "19945b0322284f1db5276bc74b1ea68b",
            "ad3449fa5ede49328a3310c6f97c70a7",
            "0bb95baf5ca04c5ca63f9afd285c795c",
            "d021a26a53de4bde9a094911a7cb5531",
            "0489f96ebee9486d80d73eb84725a214",
            "c36cfa5b07d249f8b32c50982bf536c0",
            "a842c8fb32604a12b8d5860cd397f680",
            "525fd06bbb9f4041a35b99fdb7225aac",
            "49e7af51c7cc47429438f9ce58cbe209",
            "6db1eb4f1dd942ca9b87beea8de05e38",
            "bbf83a4c81b944158121f10c2bcf82e0",
            "3fcf354578cd4c2898934e30ee7d02e2",
            "5d7fb4d8e8614df0bd18b9046597076a",
            "a5811c218e454830b52bf06bf116118b",
            "028c609a9f154235abe5a9e1431c44b1",
            "5f9ba7e625354381a7e7a4e24d9291aa",
            "f3f9b0002f764d11a4360ad8b1a18b97",
            "2f27e08171304db3a94eccb1bbe14390",
            "dc38509410694c228e45592a6ecfdb8b",
            "80fa8eef361648d294b21f249f10ed46",
            "ecf186c692c04e4b978c8cc8cb60b2f4",
            "f997aa2bdf1a47d7a464bc8f6b652ead",
            "83b2a34ab6e84f7fbfbcd01755238af3",
            "319cb872067b4865af5fc8facc75d250",
            "73ce450a625a4fd3b293c67564b3c60d",
            "5fcbc9097e284c859b617987e0c8284e"
          ]
        },
        "outputId": "11fbe22c-d6f1-4587-c41a-05f13ec49b8a"
      },
      "execution_count": null,
      "outputs": [
        {
          "output_type": "display_data",
          "data": {
            "text/plain": [
              "Downloading:   0%|          | 0.00/28.0 [00:00<?, ?B/s]"
            ],
            "application/vnd.jupyter.widget-view+json": {
              "version_major": 2,
              "version_minor": 0,
              "model_id": "f75d6c3e5e0647dfa2f009fa106881f5"
            }
          },
          "metadata": {}
        },
        {
          "output_type": "display_data",
          "data": {
            "text/plain": [
              "Downloading:   0%|          | 0.00/483 [00:00<?, ?B/s]"
            ],
            "application/vnd.jupyter.widget-view+json": {
              "version_major": 2,
              "version_minor": 0,
              "model_id": "47ded07c99914153ae1f0c821add5d53"
            }
          },
          "metadata": {}
        },
        {
          "output_type": "display_data",
          "data": {
            "text/plain": [
              "Downloading:   0%|          | 0.00/226k [00:00<?, ?B/s]"
            ],
            "application/vnd.jupyter.widget-view+json": {
              "version_major": 2,
              "version_minor": 0,
              "model_id": "0489f96ebee9486d80d73eb84725a214"
            }
          },
          "metadata": {}
        },
        {
          "output_type": "display_data",
          "data": {
            "text/plain": [
              "Downloading:   0%|          | 0.00/455k [00:00<?, ?B/s]"
            ],
            "application/vnd.jupyter.widget-view+json": {
              "version_major": 2,
              "version_minor": 0,
              "model_id": "5f9ba7e625354381a7e7a4e24d9291aa"
            }
          },
          "metadata": {}
        }
      ]
    },
    {
      "cell_type": "code",
      "source": [
        "# Check longest token sequence in entire text\n",
        "def checkForMaxTokenSeqInData(text_list, tokenizer_i):\n",
        "  \n",
        "    max_val = 0\n",
        "    for sent in text_list:\n",
        "        try:\n",
        "            sent_tok_len = len(tokenizer_i.tokenize(sent))\n",
        "            max_val = sent_tok_len if (sent_tok_len > max_val) else max_val\n",
        "        except:\n",
        "            pass\n",
        "    \n",
        "    print(f\"The maximum amount of tokens in the dataset is {max_val}\")\n",
        "    return max_val\n",
        "\n",
        "MAX_VAL = checkForMaxTokenSeqInData(train_text+val_text,tokenizer)\n",
        "#MAX_VAL = 28"
      ],
      "metadata": {
        "colab": {
          "base_uri": "https://localhost:8080/"
        },
        "id": "E1IxB3GKaedr",
        "outputId": "d75c55e5-2bec-42c7-b4e5-2c3699b48e3f"
      },
      "execution_count": null,
      "outputs": [
        {
          "output_type": "stream",
          "name": "stdout",
          "text": [
            "The maximum amount of tokens in the dataset is 28\n"
          ]
        }
      ]
    },
    {
      "cell_type": "code",
      "source": [
        "\n",
        "def encode_text(tokenizer_i, text, max_text_length):\n",
        "\n",
        "    # Encode the sentence\n",
        "    encodedText = tokenizer(\n",
        "                        text,  # document to encode.\n",
        "                        add_special_tokens=True,  # add '[CLS]' and '[SEP]'\n",
        "                        max_length=max_text_length,  # set max length\n",
        "                        truncation=True,  # truncate longer messages\n",
        "                        padding='max_length', \n",
        "                        return_attention_mask=True,  # create attn. masks\n",
        "                        return_token_type_ids=True\n",
        "                    )\n",
        "    return encodedText\n",
        "\n",
        "train_encoding = encode_text(tokenizer, train_text, MAX_VAL)\n",
        "val_encoding = encode_text(tokenizer, val_text, MAX_VAL)\n"
      ],
      "metadata": {
        "id": "yr39D9u1QBhX"
      },
      "execution_count": null,
      "outputs": []
    },
    {
      "cell_type": "markdown",
      "metadata": {
        "id": "i2USajN2MWjn"
      },
      "source": [
        "# Modelling\n",
        "\n",
        "## Build and Train Model"
      ]
    },
    {
      "cell_type": "code",
      "metadata": {
        "id": "GZfFboF85rIe",
        "colab": {
          "base_uri": "https://localhost:8080/",
          "height": 729,
          "referenced_widgets": [
            "4043430dda7d48879bc242339c689360",
            "d60ce878e5684368adf48a2ad4a7cb92",
            "bf13ad61fbe44057a8ad9e768d4dbd46",
            "6e0fd668bde54a02927f1065d4dcb3fe",
            "c72e0861521141bc9691344b11870de2",
            "28df23c36b1e492faf9d8dde81bea2ac",
            "f1907ea993e341598d160a1af955b9c1",
            "fed0945dea894eeea9e38c6330c406a7",
            "9b7a4f5e0e73440288fca1f925ef05a3",
            "73e958fe639c4331bdb39939f2138ce5",
            "cac6180c0baa44bf818b4fd05ac339ff"
          ]
        },
        "outputId": "13d32f86-3ce9-408e-ba5f-986c1b081cf8"
      },
      "source": [
        "from transformers import DistilBertTokenizer, TFDistilBertForSequenceClassification\n",
        "def build_model(base_model, trainable=False, params={}):\n",
        "    inputs = Input(shape = (params['max_seq_length'],),name='input_ids', dtype='int32')\n",
        "    masks  = Input(shape = (params['max_seq_length'],),name='attention_mask', dtype='int32')\n",
        "\n",
        "    base_model.trainable = trainable\n",
        "\n",
        "    dbert_output = base_model(inputs, masks)[0]\n",
        "    cls_token = dbert_output[:, 0, :]\n",
        "    dropout_layer = Dropout(params['dropout_rate_1'])(cls_token)\n",
        "    dense_layer = Dense(params['dense_layer_1_units'],activation='relu')(dropout_layer)\n",
        "    dropout_layer = Dropout(params['dropout_rate_1'])(dense_layer)\n",
        "    dense_layer = Dense(params['dense_layer_2_units'],activation='relu')(dropout_layer)\n",
        "    dropout_layer = Dropout(params['dropout_rate_2'])(dense_layer)\n",
        "    flatten = Flatten()(dropout_layer)\n",
        "    probs = Dense(len(label_dict), activation='softmax', name=\"output\")(flatten)\n",
        "\n",
        "    model = keras.Model(inputs=[inputs, masks], outputs=probs)\n",
        "    model.summary()\n",
        "    return model\n",
        "\n",
        "MODEL_NAME= 'distilbert-base-uncased'\n",
        "\n",
        "# Configure DistilBERT's initialization\n",
        "config = DistilBertConfig(output_hidden_states=False)\n",
        "                          \n",
        "# The bare, pre-trained DistilBERT transformer model outputting raw hidden-states \n",
        "# and without any specific head on top.\n",
        "dbert_model = TFDistilBertModel.from_pretrained('distilbert-base-uncased', config=config)\n",
        "params={\n",
        "        \"dense_layer_1_units\": 128,        \n",
        "        \"dropout_rate_1\": 0.2,\n",
        "\t      \"dense_layer_2_units\": 32,\n",
        "        \"dropout_rate_2\": 0.2,\n",
        "        \"regularizer_l2_rate\":0.01,\n",
        "        \"max_seq_length\":MAX_VAL\n",
        "        }\n",
        "\n",
        "model = build_model(dbert_model, trainable=False, params=params)"
      ],
      "execution_count": null,
      "outputs": [
        {
          "output_type": "display_data",
          "data": {
            "text/plain": [
              "Downloading:   0%|          | 0.00/347M [00:00<?, ?B/s]"
            ],
            "application/vnd.jupyter.widget-view+json": {
              "version_major": 2,
              "version_minor": 0,
              "model_id": "4043430dda7d48879bc242339c689360"
            }
          },
          "metadata": {}
        },
        {
          "output_type": "stream",
          "name": "stderr",
          "text": [
            "Some layers from the model checkpoint at distilbert-base-uncased were not used when initializing TFDistilBertModel: ['vocab_layer_norm', 'vocab_transform', 'vocab_projector', 'activation_13']\n",
            "- This IS expected if you are initializing TFDistilBertModel from the checkpoint of a model trained on another task or with another architecture (e.g. initializing a BertForSequenceClassification model from a BertForPreTraining model).\n",
            "- This IS NOT expected if you are initializing TFDistilBertModel from the checkpoint of a model that you expect to be exactly identical (initializing a BertForSequenceClassification model from a BertForSequenceClassification model).\n",
            "All the layers of TFDistilBertModel were initialized from the model checkpoint at distilbert-base-uncased.\n",
            "If your task is similar to the task the model of the checkpoint was trained on, you can already use TFDistilBertModel for predictions without further training.\n"
          ]
        },
        {
          "output_type": "stream",
          "name": "stdout",
          "text": [
            "Model: \"model\"\n",
            "__________________________________________________________________________________________________\n",
            " Layer (type)                   Output Shape         Param #     Connected to                     \n",
            "==================================================================================================\n",
            " input_ids (InputLayer)         [(None, 28)]         0           []                               \n",
            "                                                                                                  \n",
            " attention_mask (InputLayer)    [(None, 28)]         0           []                               \n",
            "                                                                                                  \n",
            " tf_distil_bert_model (TFDistil  TFBaseModelOutput(l  66362880   ['input_ids[0][0]',              \n",
            " BertModel)                     ast_hidden_state=(N               'attention_mask[0][0]']         \n",
            "                                one, 28, 768),                                                    \n",
            "                                 hidden_states=None                                               \n",
            "                                , attentions=None)                                                \n",
            "                                                                                                  \n",
            " tf.__operators__.getitem (Slic  (None, 768)         0           ['tf_distil_bert_model[0][0]']   \n",
            " ingOpLambda)                                                                                     \n",
            "                                                                                                  \n",
            " dropout_19 (Dropout)           (None, 768)          0           ['tf.__operators__.getitem[0][0]'\n",
            "                                                                 ]                                \n",
            "                                                                                                  \n",
            " dense (Dense)                  (None, 128)          98432       ['dropout_19[0][0]']             \n",
            "                                                                                                  \n",
            " dropout_20 (Dropout)           (None, 128)          0           ['dense[0][0]']                  \n",
            "                                                                                                  \n",
            " flatten (Flatten)              (None, 128)          0           ['dropout_20[0][0]']             \n",
            "                                                                                                  \n",
            " output (Dense)                 (None, 64)           8256        ['flatten[0][0]']                \n",
            "                                                                                                  \n",
            "==================================================================================================\n",
            "Total params: 66,469,568\n",
            "Trainable params: 106,688\n",
            "Non-trainable params: 66,362,880\n",
            "__________________________________________________________________________________________________\n"
          ]
        }
      ]
    },
    {
      "cell_type": "code",
      "source": [
        "def compile_model(model, lr):\n",
        "\n",
        "    optimizer = keras.optimizers.Adam(learning_rate=lr)\n",
        "    loss = keras.losses.sparse_categorical_crossentropy\n",
        "    model.compile(optimizer=optimizer,\n",
        "              loss=loss,\n",
        "              metrics='accuracy')\n",
        "    return model\n",
        "\n",
        "\n",
        "model = compile_model(model, 0.003)"
      ],
      "metadata": {
        "id": "Z3EyvQbSzu5m"
      },
      "execution_count": null,
      "outputs": []
    },
    {
      "cell_type": "code",
      "source": [
        "# Add Callbacks\n",
        "\n",
        "# Model Checkpoint\n",
        "tl_checkpoint_1 = ModelCheckpoint(filepath = '/content/drive/MyDrive/Colab Notebooks/Models/NLP/distilBert_text_classification_model_weights.hdf5', save_best_only = True, save_weights_only=True, verbose = 0)\n",
        "\n",
        "# Early Stopping Checkpoint\n",
        "EarlyStoppingCallback = tf.keras.callbacks.EarlyStopping(monitor='val_accuracy', patience=10)"
      ],
      "metadata": {
        "id": "QMV6fxol6Qlo"
      },
      "execution_count": null,
      "outputs": []
    },
    {
      "cell_type": "code",
      "source": [
        "def train_model(model, model_inputs_and_masks_train, model_inputs_and_masks_val,\n",
        "    y_train, y_val, batch_size, num_epochs):\n",
        "\n",
        "    dataset_train = tf.data.Dataset.from_tensor_slices((dict(model_inputs_and_masks_train),y_train))\n",
        "    dataset_val = tf.data.Dataset.from_tensor_slices((dict(model_inputs_and_masks_val),y_val))\n",
        "\n",
        "    history = model.fit(dataset_train.shuffle(len(dataset_train)).batch(batch_size), \n",
        "                    epochs=num_epochs, \n",
        "                    batch_size=batch_size,\n",
        "                    validation_data=dataset_val.shuffle(len(dataset_val)).batch(batch_size), \n",
        "                    verbose=1,\n",
        "                    callbacks=[tl_checkpoint_1,EarlyStoppingCallback])\n",
        "    \n",
        "    return model, history, dataset_val\n",
        "\n",
        "tf.config.run_functions_eagerly(True) #use function decorator in TF 2.0, please enable run function eagerly by using below line after importing TensorFlow\n",
        "model, history, val_dataset = train_model(model, train_encoding, val_encoding, train_y, val_y, batch_size=32, num_epochs=50)"
      ],
      "metadata": {
        "id": "Nz8kT3f8zykl",
        "colab": {
          "base_uri": "https://localhost:8080/"
        },
        "outputId": "ea5b67f4-510f-4395-c025-a47789527776"
      },
      "execution_count": null,
      "outputs": [
        {
          "output_type": "stream",
          "name": "stdout",
          "text": [
            "Epoch 1/50\n"
          ]
        },
        {
          "output_type": "stream",
          "name": "stderr",
          "text": [
            "/usr/local/lib/python3.7/dist-packages/keras/engine/functional.py:559: UserWarning: Input dict contained keys ['token_type_ids'] which did not match any model input. They will be ignored by the model.\n",
            "  inputs = self._flatten_to_reference_inputs(inputs)\n"
          ]
        },
        {
          "output_type": "stream",
          "name": "stdout",
          "text": [
            "223/223 [==============================] - 59s 263ms/step - loss: 2.4776 - accuracy: 0.3632 - val_loss: 1.1986 - val_accuracy: 0.6854\n",
            "Epoch 2/50\n",
            "223/223 [==============================] - 59s 264ms/step - loss: 1.3181 - accuracy: 0.6232 - val_loss: 0.8808 - val_accuracy: 0.7552\n",
            "Epoch 3/50\n",
            "223/223 [==============================] - 58s 260ms/step - loss: 1.0771 - accuracy: 0.6827 - val_loss: 0.7198 - val_accuracy: 0.8036\n",
            "Epoch 4/50\n",
            "223/223 [==============================] - 58s 260ms/step - loss: 0.9244 - accuracy: 0.7232 - val_loss: 0.6856 - val_accuracy: 0.8059\n",
            "Epoch 5/50\n",
            "223/223 [==============================] - 58s 261ms/step - loss: 0.8579 - accuracy: 0.7421 - val_loss: 0.6329 - val_accuracy: 0.8149\n",
            "Epoch 6/50\n",
            "223/223 [==============================] - 58s 261ms/step - loss: 0.8270 - accuracy: 0.7559 - val_loss: 0.6052 - val_accuracy: 0.8210\n",
            "Epoch 7/50\n",
            "223/223 [==============================] - 56s 251ms/step - loss: 0.7733 - accuracy: 0.7591 - val_loss: 0.6364 - val_accuracy: 0.8188\n",
            "Epoch 8/50\n",
            "223/223 [==============================] - 57s 256ms/step - loss: 0.7464 - accuracy: 0.7746 - val_loss: 0.5899 - val_accuracy: 0.8244\n",
            "Epoch 9/50\n",
            "223/223 [==============================] - 56s 252ms/step - loss: 0.7148 - accuracy: 0.7837 - val_loss: 0.6134 - val_accuracy: 0.8323\n",
            "Epoch 10/50\n",
            "223/223 [==============================] - 55s 248ms/step - loss: 0.6950 - accuracy: 0.7833 - val_loss: 0.6141 - val_accuracy: 0.8250\n",
            "Epoch 11/50\n",
            "223/223 [==============================] - 56s 249ms/step - loss: 0.6865 - accuracy: 0.7871 - val_loss: 0.5907 - val_accuracy: 0.8278\n",
            "Epoch 12/50\n",
            "223/223 [==============================] - 61s 273ms/step - loss: 0.6773 - accuracy: 0.7891 - val_loss: 0.5684 - val_accuracy: 0.8334\n",
            "Epoch 13/50\n",
            "223/223 [==============================] - 56s 250ms/step - loss: 0.6549 - accuracy: 0.7950 - val_loss: 0.6176 - val_accuracy: 0.8272\n",
            "Epoch 14/50\n",
            "223/223 [==============================] - 57s 255ms/step - loss: 0.6772 - accuracy: 0.7908 - val_loss: 0.5642 - val_accuracy: 0.8312\n",
            "Epoch 15/50\n",
            "223/223 [==============================] - 56s 250ms/step - loss: 0.6354 - accuracy: 0.7954 - val_loss: 0.5651 - val_accuracy: 0.8458\n",
            "Epoch 16/50\n",
            "223/223 [==============================] - 57s 255ms/step - loss: 0.6400 - accuracy: 0.8039 - val_loss: 0.5612 - val_accuracy: 0.8385\n",
            "Epoch 17/50\n",
            "223/223 [==============================] - 55s 249ms/step - loss: 0.6208 - accuracy: 0.8001 - val_loss: 0.5873 - val_accuracy: 0.8329\n",
            "Epoch 18/50\n",
            "223/223 [==============================] - 57s 254ms/step - loss: 0.6173 - accuracy: 0.8032 - val_loss: 0.5423 - val_accuracy: 0.8430\n",
            "Epoch 19/50\n",
            "223/223 [==============================] - 58s 262ms/step - loss: 0.6003 - accuracy: 0.8093 - val_loss: 0.5386 - val_accuracy: 0.8486\n",
            "Epoch 20/50\n",
            "223/223 [==============================] - 55s 248ms/step - loss: 0.5994 - accuracy: 0.8147 - val_loss: 0.5460 - val_accuracy: 0.8464\n",
            "Epoch 21/50\n",
            "223/223 [==============================] - 55s 246ms/step - loss: 0.6078 - accuracy: 0.8032 - val_loss: 0.5673 - val_accuracy: 0.8419\n",
            "Epoch 22/50\n",
            "223/223 [==============================] - 55s 245ms/step - loss: 0.5851 - accuracy: 0.8136 - val_loss: 0.5652 - val_accuracy: 0.8413\n",
            "Epoch 23/50\n",
            "223/223 [==============================] - 55s 246ms/step - loss: 0.5997 - accuracy: 0.8120 - val_loss: 0.5597 - val_accuracy: 0.8447\n",
            "Epoch 24/50\n",
            "223/223 [==============================] - 57s 254ms/step - loss: 0.5549 - accuracy: 0.8265 - val_loss: 0.5290 - val_accuracy: 0.8531\n",
            "Epoch 25/50\n",
            "223/223 [==============================] - 55s 249ms/step - loss: 0.5631 - accuracy: 0.8150 - val_loss: 0.5837 - val_accuracy: 0.8458\n",
            "Epoch 26/50\n",
            "223/223 [==============================] - 55s 245ms/step - loss: 0.5524 - accuracy: 0.8213 - val_loss: 0.5600 - val_accuracy: 0.8362\n",
            "Epoch 27/50\n",
            "223/223 [==============================] - 55s 246ms/step - loss: 0.5493 - accuracy: 0.8231 - val_loss: 0.5454 - val_accuracy: 0.8492\n",
            "Epoch 28/50\n",
            "223/223 [==============================] - 55s 245ms/step - loss: 0.5661 - accuracy: 0.8205 - val_loss: 0.6234 - val_accuracy: 0.8239\n",
            "Epoch 29/50\n",
            "223/223 [==============================] - 56s 251ms/step - loss: 0.5787 - accuracy: 0.8182 - val_loss: 0.5347 - val_accuracy: 0.8514\n",
            "Epoch 30/50\n",
            "223/223 [==============================] - 55s 245ms/step - loss: 0.5229 - accuracy: 0.8379 - val_loss: 0.5519 - val_accuracy: 0.8548\n",
            "Epoch 31/50\n",
            "223/223 [==============================] - 55s 248ms/step - loss: 0.5480 - accuracy: 0.8269 - val_loss: 0.5466 - val_accuracy: 0.8452\n",
            "Epoch 32/50\n",
            "223/223 [==============================] - 55s 245ms/step - loss: 0.5322 - accuracy: 0.8306 - val_loss: 0.5912 - val_accuracy: 0.8419\n",
            "Epoch 33/50\n",
            "223/223 [==============================] - 55s 245ms/step - loss: 0.5624 - accuracy: 0.8195 - val_loss: 0.5698 - val_accuracy: 0.8469\n",
            "Epoch 34/50\n",
            "223/223 [==============================] - 55s 245ms/step - loss: 0.5505 - accuracy: 0.8231 - val_loss: 0.5365 - val_accuracy: 0.8537\n",
            "Epoch 35/50\n",
            "223/223 [==============================] - 55s 245ms/step - loss: 0.5318 - accuracy: 0.8337 - val_loss: 0.5681 - val_accuracy: 0.8441\n",
            "Epoch 36/50\n",
            "223/223 [==============================] - 55s 245ms/step - loss: 0.5397 - accuracy: 0.8264 - val_loss: 0.5434 - val_accuracy: 0.8497\n",
            "Epoch 37/50\n",
            "223/223 [==============================] - 55s 245ms/step - loss: 0.5194 - accuracy: 0.8337 - val_loss: 0.5533 - val_accuracy: 0.8424\n",
            "Epoch 38/50\n",
            "223/223 [==============================] - 55s 246ms/step - loss: 0.5322 - accuracy: 0.8333 - val_loss: 0.5773 - val_accuracy: 0.8531\n",
            "Epoch 39/50\n",
            "223/223 [==============================] - 55s 245ms/step - loss: 0.5358 - accuracy: 0.8285 - val_loss: 0.5686 - val_accuracy: 0.8379\n",
            "Epoch 40/50\n",
            "223/223 [==============================] - 55s 245ms/step - loss: 0.5480 - accuracy: 0.8292 - val_loss: 0.5551 - val_accuracy: 0.8537\n"
          ]
        }
      ]
    },
    {
      "cell_type": "markdown",
      "source": [
        "# Predict & Calculate Score"
      ],
      "metadata": {
        "id": "7w_va2o93psm"
      }
    },
    {
      "cell_type": "code",
      "source": [
        "# Validation data - Tensor Conversion\n",
        "def predict_labels(model, dataset_val):\n",
        "  output_val = model.predict(dataset_val)\n",
        "  predicted_labels = np.argmax(output_val, axis=1)\n",
        "  return predicted_labels\n",
        "\n",
        "predicted_labels = predict_labels(model, val_dataset)\n",
        "predicted_labels"
      ],
      "metadata": {
        "colab": {
          "base_uri": "https://localhost:8080/"
        },
        "id": "tgS6IMMT2SE_",
        "outputId": "dffd0c8e-d962-4fbe-c4c7-b19eac89601c"
      },
      "execution_count": null,
      "outputs": [
        {
          "output_type": "stream",
          "name": "stderr",
          "text": [
            "/usr/local/lib/python3.7/dist-packages/keras/engine/functional.py:559: UserWarning: Input dict contained keys ['token_type_ids'] which did not match any model input. They will be ignored by the model.\n",
            "  inputs = self._flatten_to_reference_inputs(inputs)\n"
          ]
        },
        {
          "output_type": "execute_result",
          "data": {
            "text/plain": [
              "array([59, 58,  6, ..., 12, 57, 51])"
            ]
          },
          "metadata": {},
          "execution_count": 26
        }
      ]
    },
    {
      "cell_type": "code",
      "source": [
        "# Calculate Scores\n",
        "def calculate_score(val_y, predicted_labels):\n",
        "  ari_val = adjusted_rand_score(val_y, predicted_labels)\n",
        "  ami_val = adjusted_mutual_info_score(val_y, predicted_labels, average_method='arithmetic')\n",
        "  print(\"ari_val:\", ari_val)\n",
        "  print(\"ami_val:\", ami_val)\n",
        "  return\n",
        "\n",
        "calculate_score(val_y, predicted_labels)"
      ],
      "metadata": {
        "colab": {
          "base_uri": "https://localhost:8080/"
        },
        "id": "AD64E5TH46nr",
        "outputId": "d7ede22a-e727-4b0b-daa9-db19f203ccc8"
      },
      "execution_count": null,
      "outputs": [
        {
          "output_type": "stream",
          "name": "stdout",
          "text": [
            "ari_val: 0.7397048415478497\n",
            "ami_val: 0.8253093452843723\n"
          ]
        }
      ]
    },
    {
      "cell_type": "markdown",
      "source": [
        "#Model Evaluation"
      ],
      "metadata": {
        "id": "YxM0ngj4-tnT"
      }
    },
    {
      "cell_type": "code",
      "source": [
        "from sklearn.metrics import confusion_matrix, classification_report\n",
        "\n",
        "def run_classification_report(test_y, pred_labels):\n",
        "  report = classification_report(test_y, pred_labels, output_dict=True)\n",
        "\n",
        "  df = pd.DataFrame(report)\n",
        "\n",
        "  df.drop(columns=['accuracy', 'macro avg','weighted avg'], inplace=True)\n",
        "  df = df.transpose()\n",
        "  ser = pd.Series(label_dict)\n",
        "\n",
        "  df = df.assign(Topics=ser.values)\n",
        "  df.set_index('Topics', inplace=True)\n",
        "  df=df.round(decimals = 2)\n",
        "  return df\n",
        "\n",
        "\n",
        "df= run_classification_report(val_y, predicted_labels)\n",
        "df"
      ],
      "metadata": {
        "colab": {
          "base_uri": "https://localhost:8080/",
          "height": 455
        },
        "id": "wA689GNl-va7",
        "outputId": "57bb0802-ef31-45ac-ac23-5973407ab5f3"
      },
      "execution_count": null,
      "outputs": [
        {
          "output_type": "execute_result",
          "data": {
            "text/plain": [
              "                   precision  recall  f1-score  support\n",
              "Topics                                                 \n",
              "alarm_query             0.93    0.85      0.89     33.0\n",
              "alarm_remove            0.92    0.73      0.81     15.0\n",
              "alarm_set               0.73    0.97      0.84     34.0\n",
              "audio_volume_down       0.60    0.92      0.73     13.0\n",
              "audio_volume_mute       0.94    0.84      0.89     37.0\n",
              "...                      ...     ...       ...      ...\n",
              "transport_query         0.92    0.69      0.79     35.0\n",
              "transport_taxi          0.90    0.87      0.89     31.0\n",
              "transport_ticket        0.90    1.00      0.95     37.0\n",
              "transport_traffic       0.93    0.96      0.95     27.0\n",
              "weather_query           0.93    0.90      0.92     31.0\n",
              "\n",
              "[64 rows x 4 columns]"
            ],
            "text/html": [
              "\n",
              "  <div id=\"df-7081db6f-2c65-47e9-9840-82961f6ad718\">\n",
              "    <div class=\"colab-df-container\">\n",
              "      <div>\n",
              "<style scoped>\n",
              "    .dataframe tbody tr th:only-of-type {\n",
              "        vertical-align: middle;\n",
              "    }\n",
              "\n",
              "    .dataframe tbody tr th {\n",
              "        vertical-align: top;\n",
              "    }\n",
              "\n",
              "    .dataframe thead th {\n",
              "        text-align: right;\n",
              "    }\n",
              "</style>\n",
              "<table border=\"1\" class=\"dataframe\">\n",
              "  <thead>\n",
              "    <tr style=\"text-align: right;\">\n",
              "      <th></th>\n",
              "      <th>precision</th>\n",
              "      <th>recall</th>\n",
              "      <th>f1-score</th>\n",
              "      <th>support</th>\n",
              "    </tr>\n",
              "    <tr>\n",
              "      <th>Topics</th>\n",
              "      <th></th>\n",
              "      <th></th>\n",
              "      <th></th>\n",
              "      <th></th>\n",
              "    </tr>\n",
              "  </thead>\n",
              "  <tbody>\n",
              "    <tr>\n",
              "      <th>alarm_query</th>\n",
              "      <td>0.93</td>\n",
              "      <td>0.85</td>\n",
              "      <td>0.89</td>\n",
              "      <td>33.0</td>\n",
              "    </tr>\n",
              "    <tr>\n",
              "      <th>alarm_remove</th>\n",
              "      <td>0.92</td>\n",
              "      <td>0.73</td>\n",
              "      <td>0.81</td>\n",
              "      <td>15.0</td>\n",
              "    </tr>\n",
              "    <tr>\n",
              "      <th>alarm_set</th>\n",
              "      <td>0.73</td>\n",
              "      <td>0.97</td>\n",
              "      <td>0.84</td>\n",
              "      <td>34.0</td>\n",
              "    </tr>\n",
              "    <tr>\n",
              "      <th>audio_volume_down</th>\n",
              "      <td>0.60</td>\n",
              "      <td>0.92</td>\n",
              "      <td>0.73</td>\n",
              "      <td>13.0</td>\n",
              "    </tr>\n",
              "    <tr>\n",
              "      <th>audio_volume_mute</th>\n",
              "      <td>0.94</td>\n",
              "      <td>0.84</td>\n",
              "      <td>0.89</td>\n",
              "      <td>37.0</td>\n",
              "    </tr>\n",
              "    <tr>\n",
              "      <th>...</th>\n",
              "      <td>...</td>\n",
              "      <td>...</td>\n",
              "      <td>...</td>\n",
              "      <td>...</td>\n",
              "    </tr>\n",
              "    <tr>\n",
              "      <th>transport_query</th>\n",
              "      <td>0.92</td>\n",
              "      <td>0.69</td>\n",
              "      <td>0.79</td>\n",
              "      <td>35.0</td>\n",
              "    </tr>\n",
              "    <tr>\n",
              "      <th>transport_taxi</th>\n",
              "      <td>0.90</td>\n",
              "      <td>0.87</td>\n",
              "      <td>0.89</td>\n",
              "      <td>31.0</td>\n",
              "    </tr>\n",
              "    <tr>\n",
              "      <th>transport_ticket</th>\n",
              "      <td>0.90</td>\n",
              "      <td>1.00</td>\n",
              "      <td>0.95</td>\n",
              "      <td>37.0</td>\n",
              "    </tr>\n",
              "    <tr>\n",
              "      <th>transport_traffic</th>\n",
              "      <td>0.93</td>\n",
              "      <td>0.96</td>\n",
              "      <td>0.95</td>\n",
              "      <td>27.0</td>\n",
              "    </tr>\n",
              "    <tr>\n",
              "      <th>weather_query</th>\n",
              "      <td>0.93</td>\n",
              "      <td>0.90</td>\n",
              "      <td>0.92</td>\n",
              "      <td>31.0</td>\n",
              "    </tr>\n",
              "  </tbody>\n",
              "</table>\n",
              "<p>64 rows × 4 columns</p>\n",
              "</div>\n",
              "      <button class=\"colab-df-convert\" onclick=\"convertToInteractive('df-7081db6f-2c65-47e9-9840-82961f6ad718')\"\n",
              "              title=\"Convert this dataframe to an interactive table.\"\n",
              "              style=\"display:none;\">\n",
              "        \n",
              "  <svg xmlns=\"http://www.w3.org/2000/svg\" height=\"24px\"viewBox=\"0 0 24 24\"\n",
              "       width=\"24px\">\n",
              "    <path d=\"M0 0h24v24H0V0z\" fill=\"none\"/>\n",
              "    <path d=\"M18.56 5.44l.94 2.06.94-2.06 2.06-.94-2.06-.94-.94-2.06-.94 2.06-2.06.94zm-11 1L8.5 8.5l.94-2.06 2.06-.94-2.06-.94L8.5 2.5l-.94 2.06-2.06.94zm10 10l.94 2.06.94-2.06 2.06-.94-2.06-.94-.94-2.06-.94 2.06-2.06.94z\"/><path d=\"M17.41 7.96l-1.37-1.37c-.4-.4-.92-.59-1.43-.59-.52 0-1.04.2-1.43.59L10.3 9.45l-7.72 7.72c-.78.78-.78 2.05 0 2.83L4 21.41c.39.39.9.59 1.41.59.51 0 1.02-.2 1.41-.59l7.78-7.78 2.81-2.81c.8-.78.8-2.07 0-2.86zM5.41 20L4 18.59l7.72-7.72 1.47 1.35L5.41 20z\"/>\n",
              "  </svg>\n",
              "      </button>\n",
              "      \n",
              "  <style>\n",
              "    .colab-df-container {\n",
              "      display:flex;\n",
              "      flex-wrap:wrap;\n",
              "      gap: 12px;\n",
              "    }\n",
              "\n",
              "    .colab-df-convert {\n",
              "      background-color: #E8F0FE;\n",
              "      border: none;\n",
              "      border-radius: 50%;\n",
              "      cursor: pointer;\n",
              "      display: none;\n",
              "      fill: #1967D2;\n",
              "      height: 32px;\n",
              "      padding: 0 0 0 0;\n",
              "      width: 32px;\n",
              "    }\n",
              "\n",
              "    .colab-df-convert:hover {\n",
              "      background-color: #E2EBFA;\n",
              "      box-shadow: 0px 1px 2px rgba(60, 64, 67, 0.3), 0px 1px 3px 1px rgba(60, 64, 67, 0.15);\n",
              "      fill: #174EA6;\n",
              "    }\n",
              "\n",
              "    [theme=dark] .colab-df-convert {\n",
              "      background-color: #3B4455;\n",
              "      fill: #D2E3FC;\n",
              "    }\n",
              "\n",
              "    [theme=dark] .colab-df-convert:hover {\n",
              "      background-color: #434B5C;\n",
              "      box-shadow: 0px 1px 3px 1px rgba(0, 0, 0, 0.15);\n",
              "      filter: drop-shadow(0px 1px 2px rgba(0, 0, 0, 0.3));\n",
              "      fill: #FFFFFF;\n",
              "    }\n",
              "  </style>\n",
              "\n",
              "      <script>\n",
              "        const buttonEl =\n",
              "          document.querySelector('#df-7081db6f-2c65-47e9-9840-82961f6ad718 button.colab-df-convert');\n",
              "        buttonEl.style.display =\n",
              "          google.colab.kernel.accessAllowed ? 'block' : 'none';\n",
              "\n",
              "        async function convertToInteractive(key) {\n",
              "          const element = document.querySelector('#df-7081db6f-2c65-47e9-9840-82961f6ad718');\n",
              "          const dataTable =\n",
              "            await google.colab.kernel.invokeFunction('convertToInteractive',\n",
              "                                                     [key], {});\n",
              "          if (!dataTable) return;\n",
              "\n",
              "          const docLinkHtml = 'Like what you see? Visit the ' +\n",
              "            '<a target=\"_blank\" href=https://colab.research.google.com/notebooks/data_table.ipynb>data table notebook</a>'\n",
              "            + ' to learn more about interactive tables.';\n",
              "          element.innerHTML = '';\n",
              "          dataTable['output_type'] = 'display_data';\n",
              "          await google.colab.output.renderOutput(dataTable, element);\n",
              "          const docLink = document.createElement('div');\n",
              "          docLink.innerHTML = docLinkHtml;\n",
              "          element.appendChild(docLink);\n",
              "        }\n",
              "      </script>\n",
              "    </div>\n",
              "  </div>\n",
              "  "
            ]
          },
          "metadata": {},
          "execution_count": 28
        }
      ]
    },
    {
      "cell_type": "markdown",
      "source": [
        "#Visualization"
      ],
      "metadata": {
        "id": "DemB8rF7JWzL"
      }
    },
    {
      "cell_type": "code",
      "source": [
        "import seaborn as sns\n",
        "import matplotlib.pyplot as plt\n",
        "\n",
        "def visualize_classification_report_with_heatmap(test_y, pred_labels, target_names_dict):\n",
        "  fig, ax = plt.subplots(figsize=(20,20)) \n",
        "  clf_report = classification_report(test_y, pred_labels,\n",
        "                                    target_names=list(target_names_dict.values()),\n",
        "                                    output_dict=True)\n",
        "  sns.heatmap(pd.DataFrame(clf_report).iloc[:-1, :].T, annot=True)\n",
        "  return\n",
        "\n",
        "# Use this dict, if cannot generate from labeled data based dictionary ('label_dict') dynamically\n",
        "label_dict_fixed={0: 'alarm_query',1: 'alarm_remove',2: 'alarm_set',3: 'audio_volume_down',4: 'audio_volume_mute',5: 'audio_volume_up',6: 'calendar_query',7: 'calendar_remove',8: 'calendar_set',9: \n",
        "             'cooking_recipe',10: 'datetime_convert',11: 'datetime_query',12: 'email_addcontact',13: 'email_query',14: 'email_querycontact',15: 'email_sendemail',16: 'general_affirm',17: 'general_commandstop',\n",
        "             18: 'general_confirm',19: 'general_dontcare',20: 'general_explain',21: 'general_joke',22: 'general_negate',23: 'general_praise',24: 'general_quirky',25: 'general_repeat',26: 'iot_cleaning',\n",
        "             27: 'iot_coffee',28: 'iot_hue_lightchange',29: 'iot_hue_lightdim',30: 'iot_hue_lightoff',31: 'iot_hue_lighton',32: 'iot_hue_lightup',33: 'iot_wemo_off',34: 'iot_wemo_on',35: 'lists_createoradd',\n",
        "             36: 'lists_query',37: 'lists_remove',38: 'music_likeness',39: 'music_query',40: 'music_settings',41: 'news_query',42: 'play_audiobook',43: 'play_game',44: 'play_music',45: 'play_podcasts',\n",
        "             46: 'play_radio',47: 'qa_currency',48: 'qa_definition',49: 'qa_factoid',50: 'qa_maths',51: 'qa_stock',52: 'recommendation_events',53: 'recommendation_locations',54: 'recommendation_movies',\n",
        "             55: 'social_post',56: 'social_query',57: 'takeaway_order',58: 'takeaway_query',59: 'transport_query',60: 'transport_taxi',61: 'transport_ticket',62: 'transport_traffic',63: 'weather_query'}\n",
        "\n",
        "visualize_classification_report_with_heatmap(val_y, predicted_labels, label_dict)"
      ],
      "metadata": {
        "colab": {
          "base_uri": "https://localhost:8080/",
          "height": 1000
        },
        "id": "4wNZvLurJaQE",
        "outputId": "b751c99a-8303-4c8f-dbb7-abc6e58714ca"
      },
      "execution_count": null,
      "outputs": [
        {
          "output_type": "display_data",
          "data": {
            "text/plain": [
              "<Figure size 1440x1440 with 2 Axes>"
            ],
            "image/png": "[encoded data removed]"
          },
          "metadata": {
            "needs_background": "light"
          }
        }
      ]
    },
    {
      "cell_type": "code",
      "source": [
        "import matplotlib.pyplot as plt\n",
        "import numpy as np\n",
        "import itertools\n",
        "\n",
        "def plot_classification_report(classificationReport,\n",
        "                               title='Classification report',\n",
        "                               cmap='RdBu'):\n",
        "\n",
        "    classificationReport = classificationReport.replace('\\n\\n', '\\n')\n",
        "    classificationReport = classificationReport.replace('macro avg', 'macro_avg')\n",
        "    classificationReport = classificationReport.replace('weighted avg', 'weighted_avg')\n",
        "    lines = classificationReport.split('\\n')\n",
        "\n",
        "    classes, plotMat, support, class_names = [], [], [], []\n",
        "    for line in lines[1:-4]:  # if you don't want any avg, then change [1:] into [1:-4]\n",
        "        t = line.strip().split()\n",
        "        if len(t) < 2:\n",
        "            continue\n",
        "        classes.append(t[0])\n",
        "        v = [float(x) for x in t[1: len(t) - 1]]\n",
        "        support.append(int(t[-1]))\n",
        "        class_names.append(t[0])\n",
        "        plotMat.append(v)\n",
        "\n",
        "    plotMat = np.array(plotMat)\n",
        "    xticklabels = ['Precision', 'Recall', 'F1-score']\n",
        "    yticklabels = ['{0} ({1})'.format(class_names[idx], sup)\n",
        "                   for idx, sup in enumerate(support)]\n",
        "    fig, ax = plt.subplots(figsize=(20,20)) \n",
        "    plt.imshow(plotMat, interpolation='nearest', cmap=cmap, aspect='auto')\n",
        "    plt.title(title)\n",
        "    plt.colorbar()\n",
        "    plt.xticks(np.arange(3), xticklabels, rotation=45)\n",
        "    plt.yticks(np.arange(len(classes)), yticklabels)\n",
        "\n",
        "    upper_thresh = plotMat.min() + (plotMat.max() - plotMat.min()) / 10 * 8\n",
        "    lower_thresh = plotMat.min() + (plotMat.max() - plotMat.min()) / 10 * 2\n",
        "    for i, j in itertools.product(range(plotMat.shape[0]), range(plotMat.shape[1])):\n",
        "        plt.text(j, i, format(plotMat[i, j], '.2f'),\n",
        "                 horizontalalignment=\"center\",\n",
        "                 color=\"white\" if (plotMat[i, j] > upper_thresh or plotMat[i, j] < lower_thresh) else \"black\")\n",
        "\n",
        "    plt.ylabel('Metrics')\n",
        "    plt.xlabel('Classes')\n",
        "    plt.tight_layout()\n",
        "\n",
        "# Use this dict, if cannot generate from labeled data based dictionary ('label_dict') dynamically\n",
        "label_dict_fixed={0: 'alarm_query',1: 'alarm_remove',2: 'alarm_set',3: 'audio_volume_down',4: 'audio_volume_mute',5: 'audio_volume_up',6: 'calendar_query',7: 'calendar_remove',8: 'calendar_set',9: \n",
        "             'cooking_recipe',10: 'datetime_convert',11: 'datetime_query',12: 'email_addcontact',13: 'email_query',14: 'email_querycontact',15: 'email_sendemail',16: 'general_affirm',17: 'general_commandstop',\n",
        "             18: 'general_confirm',19: 'general_dontcare',20: 'general_explain',21: 'general_joke',22: 'general_negate',23: 'general_praise',24: 'general_quirky',25: 'general_repeat',26: 'iot_cleaning',\n",
        "             27: 'iot_coffee',28: 'iot_hue_lightchange',29: 'iot_hue_lightdim',30: 'iot_hue_lightoff',31: 'iot_hue_lighton',32: 'iot_hue_lightup',33: 'iot_wemo_off',34: 'iot_wemo_on',35: 'lists_createoradd',\n",
        "             36: 'lists_query',37: 'lists_remove',38: 'music_likeness',39: 'music_query',40: 'music_settings',41: 'news_query',42: 'play_audiobook',43: 'play_game',44: 'play_music',45: 'play_podcasts',\n",
        "             46: 'play_radio',47: 'qa_currency',48: 'qa_definition',49: 'qa_factoid',50: 'qa_maths',51: 'qa_stock',52: 'recommendation_events',53: 'recommendation_locations',54: 'recommendation_movies',\n",
        "             55: 'social_post',56: 'social_query',57: 'takeaway_order',58: 'takeaway_query',59: 'transport_query',60: 'transport_taxi',61: 'transport_ticket',62: 'transport_traffic',63: 'weather_query'}\n",
        "\n",
        "classificationReport = classification_report(val_y, predicted_labels, target_names=list(label_dict.values()))\n",
        "\n",
        "plot_classification_report(classificationReport)"
      ],
      "metadata": {
        "colab": {
          "base_uri": "https://localhost:8080/",
          "height": 1000
        },
        "id": "f2IN40hYQMxk",
        "outputId": "dbe503fe-175f-416c-c783-53571153a832"
      },
      "execution_count": null,
      "outputs": [
        {
          "output_type": "display_data",
          "data": {
            "text/plain": [
              "<Figure size 1440x1440 with 2 Axes>"
            ],
            "image/png": "[encoded data removed]"
          },
          "metadata": {
            "needs_background": "light"
          }
        }
      ]
    },
    {
      "cell_type": "markdown",
      "source": [
        "#Conclusion\n",
        "\n",
        "\n",
        "1.   Recall is a good inidicator here to tell us how well we have identified topics.\n",
        "2.   Topics not identified well by model - general_quirky, iot_hue_lighton\n",
        "3.   'iot_hue_lighton' have very low number of records, compared to other topics, and could be the reason for low recall rate.\n",
        "4.   'general_quirky' have low recall rate, even with good number of samples. After looking at the data for this topic, looks like conversations under this topic are even confusing for human being. This is why model is performing well.\n",
        "\n",
        "\n",
        "\n"
      ],
      "metadata": {
        "id": "RajE6_ocZbdJ"
      }
    },
    {
      "cell_type": "markdown",
      "source": [
        "#Result Submission"
      ],
      "metadata": {
        "id": "ZB7FF59Yb-SK"
      }
    },
    {
      "cell_type": "code",
      "source": [
        "result_df = load_data('/content/drive/MyDrive/Colab Notebooks/data/input_data.csv')\n",
        "result_df"
      ],
      "metadata": {
        "colab": {
          "base_uri": "https://localhost:8080/",
          "height": 424
        },
        "id": "LGOLze93cB7i",
        "outputId": "de9cde18-4ca6-4941-ef52-bee2ee320d2b"
      },
      "execution_count": null,
      "outputs": [
        {
          "output_type": "execute_result",
          "data": {
            "text/plain": [
              "         id                                            message\n",
              "0     10873         list the current price of microsoft shares\n",
              "1      8491                    where is the nearest smoke shop\n",
              "2      4549                                 please start over.\n",
              "3      5948                                read my lists to me\n",
              "4      1663                                    mute volume now\n",
              "...     ...                                                ...\n",
              "2216  10368         what you have said was not so clear to me.\n",
              "2217   6320  what is the name of the artist that created th...\n",
              "2218   5347                 please shut off the kitchen lights\n",
              "2219   2848                                    update on email\n",
              "2220   7802                  what is the age of britney spears\n",
              "\n",
              "[2221 rows x 2 columns]"
            ],
            "text/html": [
              "\n",
              "  <div id=\"df-6d8bd5c0-5d56-4729-b3a5-ad2965342cae\">\n",
              "    <div class=\"colab-df-container\">\n",
              "      <div>\n",
              "<style scoped>\n",
              "    .dataframe tbody tr th:only-of-type {\n",
              "        vertical-align: middle;\n",
              "    }\n",
              "\n",
              "    .dataframe tbody tr th {\n",
              "        vertical-align: top;\n",
              "    }\n",
              "\n",
              "    .dataframe thead th {\n",
              "        text-align: right;\n",
              "    }\n",
              "</style>\n",
              "<table border=\"1\" class=\"dataframe\">\n",
              "  <thead>\n",
              "    <tr style=\"text-align: right;\">\n",
              "      <th></th>\n",
              "      <th>id</th>\n",
              "      <th>message</th>\n",
              "    </tr>\n",
              "  </thead>\n",
              "  <tbody>\n",
              "    <tr>\n",
              "      <th>0</th>\n",
              "      <td>10873</td>\n",
              "      <td>list the current price of microsoft shares</td>\n",
              "    </tr>\n",
              "    <tr>\n",
              "      <th>1</th>\n",
              "      <td>8491</td>\n",
              "      <td>where is the nearest smoke shop</td>\n",
              "    </tr>\n",
              "    <tr>\n",
              "      <th>2</th>\n",
              "      <td>4549</td>\n",
              "      <td>please start over.</td>\n",
              "    </tr>\n",
              "    <tr>\n",
              "      <th>3</th>\n",
              "      <td>5948</td>\n",
              "      <td>read my lists to me</td>\n",
              "    </tr>\n",
              "    <tr>\n",
              "      <th>4</th>\n",
              "      <td>1663</td>\n",
              "      <td>mute volume now</td>\n",
              "    </tr>\n",
              "    <tr>\n",
              "      <th>...</th>\n",
              "      <td>...</td>\n",
              "      <td>...</td>\n",
              "    </tr>\n",
              "    <tr>\n",
              "      <th>2216</th>\n",
              "      <td>10368</td>\n",
              "      <td>what you have said was not so clear to me.</td>\n",
              "    </tr>\n",
              "    <tr>\n",
              "      <th>2217</th>\n",
              "      <td>6320</td>\n",
              "      <td>what is the name of the artist that created th...</td>\n",
              "    </tr>\n",
              "    <tr>\n",
              "      <th>2218</th>\n",
              "      <td>5347</td>\n",
              "      <td>please shut off the kitchen lights</td>\n",
              "    </tr>\n",
              "    <tr>\n",
              "      <th>2219</th>\n",
              "      <td>2848</td>\n",
              "      <td>update on email</td>\n",
              "    </tr>\n",
              "    <tr>\n",
              "      <th>2220</th>\n",
              "      <td>7802</td>\n",
              "      <td>what is the age of britney spears</td>\n",
              "    </tr>\n",
              "  </tbody>\n",
              "</table>\n",
              "<p>2221 rows × 2 columns</p>\n",
              "</div>\n",
              "      <button class=\"colab-df-convert\" onclick=\"convertToInteractive('df-6d8bd5c0-5d56-4729-b3a5-ad2965342cae')\"\n",
              "              title=\"Convert this dataframe to an interactive table.\"\n",
              "              style=\"display:none;\">\n",
              "        \n",
              "  <svg xmlns=\"http://www.w3.org/2000/svg\" height=\"24px\"viewBox=\"0 0 24 24\"\n",
              "       width=\"24px\">\n",
              "    <path d=\"M0 0h24v24H0V0z\" fill=\"none\"/>\n",
              "    <path d=\"M18.56 5.44l.94 2.06.94-2.06 2.06-.94-2.06-.94-.94-2.06-.94 2.06-2.06.94zm-11 1L8.5 8.5l.94-2.06 2.06-.94-2.06-.94L8.5 2.5l-.94 2.06-2.06.94zm10 10l.94 2.06.94-2.06 2.06-.94-2.06-.94-.94-2.06-.94 2.06-2.06.94z\"/><path d=\"M17.41 7.96l-1.37-1.37c-.4-.4-.92-.59-1.43-.59-.52 0-1.04.2-1.43.59L10.3 9.45l-7.72 7.72c-.78.78-.78 2.05 0 2.83L4 21.41c.39.39.9.59 1.41.59.51 0 1.02-.2 1.41-.59l7.78-7.78 2.81-2.81c.8-.78.8-2.07 0-2.86zM5.41 20L4 18.59l7.72-7.72 1.47 1.35L5.41 20z\"/>\n",
              "  </svg>\n",
              "      </button>\n",
              "      \n",
              "  <style>\n",
              "    .colab-df-container {\n",
              "      display:flex;\n",
              "      flex-wrap:wrap;\n",
              "      gap: 12px;\n",
              "    }\n",
              "\n",
              "    .colab-df-convert {\n",
              "      background-color: #E8F0FE;\n",
              "      border: none;\n",
              "      border-radius: 50%;\n",
              "      cursor: pointer;\n",
              "      display: none;\n",
              "      fill: #1967D2;\n",
              "      height: 32px;\n",
              "      padding: 0 0 0 0;\n",
              "      width: 32px;\n",
              "    }\n",
              "\n",
              "    .colab-df-convert:hover {\n",
              "      background-color: #E2EBFA;\n",
              "      box-shadow: 0px 1px 2px rgba(60, 64, 67, 0.3), 0px 1px 3px 1px rgba(60, 64, 67, 0.15);\n",
              "      fill: #174EA6;\n",
              "    }\n",
              "\n",
              "    [theme=dark] .colab-df-convert {\n",
              "      background-color: #3B4455;\n",
              "      fill: #D2E3FC;\n",
              "    }\n",
              "\n",
              "    [theme=dark] .colab-df-convert:hover {\n",
              "      background-color: #434B5C;\n",
              "      box-shadow: 0px 1px 3px 1px rgba(0, 0, 0, 0.15);\n",
              "      filter: drop-shadow(0px 1px 2px rgba(0, 0, 0, 0.3));\n",
              "      fill: #FFFFFF;\n",
              "    }\n",
              "  </style>\n",
              "\n",
              "      <script>\n",
              "        const buttonEl =\n",
              "          document.querySelector('#df-6d8bd5c0-5d56-4729-b3a5-ad2965342cae button.colab-df-convert');\n",
              "        buttonEl.style.display =\n",
              "          google.colab.kernel.accessAllowed ? 'block' : 'none';\n",
              "\n",
              "        async function convertToInteractive(key) {\n",
              "          const element = document.querySelector('#df-6d8bd5c0-5d56-4729-b3a5-ad2965342cae');\n",
              "          const dataTable =\n",
              "            await google.colab.kernel.invokeFunction('convertToInteractive',\n",
              "                                                     [key], {});\n",
              "          if (!dataTable) return;\n",
              "\n",
              "          const docLinkHtml = 'Like what you see? Visit the ' +\n",
              "            '<a target=\"_blank\" href=https://colab.research.google.com/notebooks/data_table.ipynb>data table notebook</a>'\n",
              "            + ' to learn more about interactive tables.';\n",
              "          element.innerHTML = '';\n",
              "          dataTable['output_type'] = 'display_data';\n",
              "          await google.colab.output.renderOutput(dataTable, element);\n",
              "          const docLink = document.createElement('div');\n",
              "          docLink.innerHTML = docLinkHtml;\n",
              "          element.appendChild(docLink);\n",
              "        }\n",
              "      </script>\n",
              "    </div>\n",
              "  </div>\n",
              "  "
            ]
          },
          "metadata": {},
          "execution_count": 31
        }
      ]
    },
    {
      "cell_type": "code",
      "source": [
        "def get_submission_predicted_labels(result_sub_df, model_param):  \n",
        "  test_text = result_sub_df['message'].tolist()\n",
        "\n",
        "  test_encoding = encode_text(tokenizer, test_text, MAX_VAL)\n",
        "  test_dataset = tf.data.Dataset.from_tensor_slices((dict(test_encoding)))\n",
        "  output_val = model_param.predict(test_dataset)\n",
        "  predicted_labels = np.argmax(output_val, axis=1)\n",
        "  return predicted_labels\n",
        "\n",
        "predicted_labels=get_submission_predicted_labels(result_df, model)  "
      ],
      "metadata": {
        "id": "LonM8ZcCciyU",
        "colab": {
          "base_uri": "https://localhost:8080/"
        },
        "outputId": "006aa6d0-35cd-4de4-c85b-b08083a3b3e9"
      },
      "execution_count": null,
      "outputs": [
        {
          "output_type": "stream",
          "name": "stderr",
          "text": [
            "/usr/local/lib/python3.7/dist-packages/keras/engine/functional.py:559: UserWarning: Input dict contained keys ['token_type_ids'] which did not match any model input. They will be ignored by the model.\n",
            "  inputs = self._flatten_to_reference_inputs(inputs)\n"
          ]
        }
      ]
    },
    {
      "cell_type": "code",
      "source": [
        "predicted_labels"
      ],
      "metadata": {
        "colab": {
          "base_uri": "https://localhost:8080/"
        },
        "id": "fk3XKyfk79tz",
        "outputId": "618847da-e0de-4e17-e7c3-c0767e18b7d0"
      },
      "execution_count": null,
      "outputs": [
        {
          "output_type": "execute_result",
          "data": {
            "text/plain": [
              "array([51, 53, 25, ..., 30, 13, 54])"
            ]
          },
          "metadata": {},
          "execution_count": 33
        }
      ]
    },
    {
      "cell_type": "code",
      "source": [
        "def create_submission_file(labels_predicted, label_dict_param, filepath):\n",
        "  my_submission = pd.DataFrame({'Id': result_df['id'], 'label': labels_predicted})\n",
        "  my_submission['label'] = my_submission['label'].map(label_dict_param)\n",
        "  print(my_submission.head())\n",
        "\n",
        "  # NOTE: after saving the CSV file, be sure to zip the file before submitting to the competition website!\n",
        "  my_submission.to_csv(filepath, index=False)\n",
        "  return\n",
        "\n",
        "create_submission_file(predicted_labels, label_dict, '/content/drive/MyDrive/Colab Notebooks/data/submission_custom_distillbert.csv')"
      ],
      "metadata": {
        "id": "dNgXAYOu4sBp",
        "colab": {
          "base_uri": "https://localhost:8080/"
        },
        "outputId": "28cc0073-0a65-45bc-a2a3-0cbc6328c011"
      },
      "execution_count": null,
      "outputs": [
        {
          "output_type": "stream",
          "name": "stdout",
          "text": [
            "      Id                     label\n",
            "0  10873                  qa_stock\n",
            "1   8491  recommendation_locations\n",
            "2   4549            general_repeat\n",
            "3   5948               lists_query\n",
            "4   1663         audio_volume_down\n"
          ]
        }
      ]
    },
    {
      "cell_type": "markdown",
      "source": [
        "#Fine Tuning Custom DistilBERT Model"
      ],
      "metadata": {
        "id": "z2vZXKsxNway"
      }
    },
    {
      "cell_type": "code",
      "source": [
        "# Unfreeze distilBERT layers and make available for training\n",
        "def fine_tune_transfer_learning_model(base_transfomer_model, custom_model, learning_rate):\n",
        "\n",
        "    base_transfomer_model.trainable = True\n",
        "    \n",
        "    # Recompile model after unfreezing\n",
        "    model_updated = compile_model(custom_model, learning_rate)\n",
        "    custom_model.summary()\n",
        "    \n",
        "    model_updated, history2, val_dataset1 = train_model(model, train_encoding, val_encoding, train_y, val_y, batch_size=32, num_epochs=10)\n",
        "\n",
        "    return custom_model, history2, val_dataset1\n",
        "\n",
        "model2, history2, val_dataset2=fine_tune_transfer_learning_model(dbert_model, model, 3e-5)"
      ],
      "metadata": {
        "id": "ODpQjmwAOHzs",
        "colab": {
          "base_uri": "https://localhost:8080/"
        },
        "outputId": "9a4110c4-c9cd-4f80-b84f-9507e9a84eeb"
      },
      "execution_count": null,
      "outputs": [
        {
          "output_type": "stream",
          "name": "stdout",
          "text": [
            "Model: \"model\"\n",
            "__________________________________________________________________________________________________\n",
            " Layer (type)                   Output Shape         Param #     Connected to                     \n",
            "==================================================================================================\n",
            " input_ids (InputLayer)         [(None, 28)]         0           []                               \n",
            "                                                                                                  \n",
            " attention_mask (InputLayer)    [(None, 28)]         0           []                               \n",
            "                                                                                                  \n",
            " tf_distil_bert_model (TFDistil  TFBaseModelOutput(l  66362880   ['input_ids[0][0]',              \n",
            " BertModel)                     ast_hidden_state=(N               'attention_mask[0][0]']         \n",
            "                                one, 28, 768),                                                    \n",
            "                                 hidden_states=None                                               \n",
            "                                , attentions=None)                                                \n",
            "                                                                                                  \n",
            " tf.__operators__.getitem (Slic  (None, 768)         0           ['tf_distil_bert_model[0][0]']   \n",
            " ingOpLambda)                                                                                     \n",
            "                                                                                                  \n",
            " dropout_19 (Dropout)           (None, 768)          0           ['tf.__operators__.getitem[0][0]'\n",
            "                                                                 ]                                \n",
            "                                                                                                  \n",
            " dense (Dense)                  (None, 128)          98432       ['dropout_19[0][0]']             \n",
            "                                                                                                  \n",
            " dropout_20 (Dropout)           (None, 128)          0           ['dense[0][0]']                  \n",
            "                                                                                                  \n",
            " flatten (Flatten)              (None, 128)          0           ['dropout_20[0][0]']             \n",
            "                                                                                                  \n",
            " output (Dense)                 (None, 64)           8256        ['flatten[0][0]']                \n",
            "                                                                                                  \n",
            "==================================================================================================\n",
            "Total params: 66,469,568\n",
            "Trainable params: 66,469,568\n",
            "Non-trainable params: 0\n",
            "__________________________________________________________________________________________________\n",
            "Epoch 1/10\n"
          ]
        },
        {
          "output_type": "stream",
          "name": "stderr",
          "text": [
            "/usr/local/lib/python3.7/dist-packages/keras/engine/functional.py:559: UserWarning: Input dict contained keys ['token_type_ids'] which did not match any model input. They will be ignored by the model.\n",
            "  inputs = self._flatten_to_reference_inputs(inputs)\n"
          ]
        },
        {
          "output_type": "stream",
          "name": "stdout",
          "text": [
            "223/223 [==============================] - 65s 291ms/step - loss: 0.4446 - accuracy: 0.8689 - val_loss: 0.4693 - val_accuracy: 0.8807\n",
            "Epoch 2/10\n",
            "223/223 [==============================] - 65s 293ms/step - loss: 0.2793 - accuracy: 0.9128 - val_loss: 0.4515 - val_accuracy: 0.8987\n",
            "Epoch 3/10\n",
            "223/223 [==============================] - 63s 285ms/step - loss: 0.1860 - accuracy: 0.9394 - val_loss: 0.4572 - val_accuracy: 0.9105\n",
            "Epoch 4/10\n",
            "223/223 [==============================] - 63s 281ms/step - loss: 0.1397 - accuracy: 0.9547 - val_loss: 0.5168 - val_accuracy: 0.9038\n",
            "Epoch 5/10\n",
            "223/223 [==============================] - 63s 281ms/step - loss: 0.1001 - accuracy: 0.9681 - val_loss: 0.5292 - val_accuracy: 0.9066\n",
            "Epoch 6/10\n",
            "223/223 [==============================] - 63s 282ms/step - loss: 0.0909 - accuracy: 0.9702 - val_loss: 0.5766 - val_accuracy: 0.9010\n",
            "Epoch 7/10\n",
            "223/223 [==============================] - 62s 280ms/step - loss: 0.0788 - accuracy: 0.9747 - val_loss: 0.5218 - val_accuracy: 0.9105\n",
            "Epoch 8/10\n",
            "223/223 [==============================] - 64s 287ms/step - loss: 0.0676 - accuracy: 0.9772 - val_loss: 0.5567 - val_accuracy: 0.9060\n",
            "Epoch 9/10\n",
            "223/223 [==============================] - 63s 281ms/step - loss: 0.0554 - accuracy: 0.9818 - val_loss: 0.6351 - val_accuracy: 0.9071\n",
            "Epoch 10/10\n",
            "223/223 [==============================] - 62s 280ms/step - loss: 0.0658 - accuracy: 0.9785 - val_loss: 0.5634 - val_accuracy: 0.9077\n"
          ]
        }
      ]
    },
    {
      "cell_type": "code",
      "source": [
        "#Predict on Fine Tune Model\n",
        "predicted_labels2 = predict_labels(model2, val_dataset2)\n",
        "calculate_score(val_y, predicted_labels2)\n",
        "visualize_classification_report_with_heatmap(val_y, predicted_labels2, label_dict)"
      ],
      "metadata": {
        "colab": {
          "base_uri": "https://localhost:8080/",
          "height": 1000
        },
        "id": "cWxjPq4_8pfd",
        "outputId": "31346b32-b773-4b71-bd28-4ce749f94b2f"
      },
      "execution_count": null,
      "outputs": [
        {
          "output_type": "stream",
          "name": "stderr",
          "text": [
            "/usr/local/lib/python3.7/dist-packages/keras/engine/functional.py:559: UserWarning: Input dict contained keys ['token_type_ids'] which did not match any model input. They will be ignored by the model.\n",
            "  inputs = self._flatten_to_reference_inputs(inputs)\n"
          ]
        },
        {
          "output_type": "stream",
          "name": "stdout",
          "text": [
            "ari_val: 0.8282646723808677\n",
            "ami_val: 0.8833734548624657\n"
          ]
        },
        {
          "output_type": "display_data",
          "data": {
            "text/plain": [
              "<Figure size 1440x1440 with 2 Axes>"
            ],
            "image/png": "[encoded data removed]"
          },
          "metadata": {
            "needs_background": "light"
          }
        }
      ]
    },
    {
      "cell_type": "code",
      "source": [
        "#Create Submission File For Fine Tuned Model\n",
        "predicted_labels_fine_tuned=get_submission_predicted_labels(result_df, model2) \n",
        "create_submission_file(predicted_labels_fine_tuned, label_dict, '/content/drive/MyDrive/Colab Notebooks/data/submission_custom_distillbert_fine_tuned.csv')"
      ],
      "metadata": {
        "colab": {
          "base_uri": "https://localhost:8080/"
        },
        "id": "su9nDCL0-E2N",
        "outputId": "de91e74b-21d3-4c56-86c8-888ea56c8764"
      },
      "execution_count": null,
      "outputs": [
        {
          "output_type": "stream",
          "name": "stderr",
          "text": [
            "/usr/local/lib/python3.7/dist-packages/keras/engine/functional.py:559: UserWarning: Input dict contained keys ['token_type_ids'] which did not match any model input. They will be ignored by the model.\n",
            "  inputs = self._flatten_to_reference_inputs(inputs)\n"
          ]
        },
        {
          "output_type": "stream",
          "name": "stdout",
          "text": [
            "      Id                     label\n",
            "0  10873                  qa_stock\n",
            "1   8491  recommendation_locations\n",
            "2   4549            general_repeat\n",
            "3   5948               lists_query\n",
            "4   1663         audio_volume_mute\n"
          ]
        }
      ]
    }
  ]
}